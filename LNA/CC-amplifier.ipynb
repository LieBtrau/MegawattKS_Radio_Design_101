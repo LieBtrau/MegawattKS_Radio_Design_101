{
 "cells": [
  {
   "cell_type": "markdown",
   "metadata": {},
   "source": [
    "# Common collector amplifier\n",
    "## Input Resistance\n",
    "The input resistance of the common collector amplifier is given by the following formula:"
   ]
  },
  {
   "cell_type": "code",
   "execution_count": 3,
   "metadata": {},
   "outputs": [
    {
     "name": "stdout",
     "output_type": "stream",
     "text": [
      "R_in (excluding biasing resistors)= 325252.47 ohm\n",
      "R_in (including biasing resistors)= 7044.07 ohm\n"
     ]
    }
   ],
   "source": [
    "R_E = 3.3e3 # ohm, emitter resistor\n",
    "I_c = 1e-3 # ampere, collector current\n",
    "V_T = 26e-3 # volt, thermal voltage\n",
    "β_0 = 100 # unitless, small signal current gain\n",
    "V_A = 100 # volt, early voltage\n",
    "\n",
    "r_o = V_A / I_c # ohm, output resistance\n",
    "g_m = I_c / V_T # siemens, transconductance\n",
    "r_π = β_0 / g_m # ohm, small signal input resistance\n",
    "R_in = r_π + (β_0 + 1) * (R_E * r_o) / (R_E + r_o)\n",
    "print(f\"R_in (excluding biasing resistors)= {R_in:.2f} ohm\")\n",
    "\n",
    "R_1 = 12e3 # ohm, biasing resistor\n",
    "R_2 = 18e3 # ohm, biasing resistor\n",
    "R_th = R_1 * R_2 / (R_1 + R_2) # ohm, thevenin resistance\n",
    "R_in = R_th * R_in / (R_th + R_in)\n",
    "print(f\"R_in (including biasing resistors)= {R_in:.2f} ohm\")"
   ]
  },
  {
   "cell_type": "markdown",
   "metadata": {},
   "source": [
    "Bootstrapping is no longer effective at 100MHz."
   ]
  }
 ],
 "metadata": {
  "kernelspec": {
   "display_name": "Python 3",
   "language": "python",
   "name": "python3"
  },
  "language_info": {
   "codemirror_mode": {
    "name": "ipython",
    "version": 3
   },
   "file_extension": ".py",
   "mimetype": "text/x-python",
   "name": "python",
   "nbconvert_exporter": "python",
   "pygments_lexer": "ipython3",
   "version": "3.10.5"
  }
 },
 "nbformat": 4,
 "nbformat_minor": 2
}
