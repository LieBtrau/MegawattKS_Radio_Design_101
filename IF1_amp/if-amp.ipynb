{
 "cells": [
  {
   "cell_type": "markdown",
   "id": "176c1191",
   "metadata": {},
   "source": [
    "# Gain\n",
    "We need about 100dB of gain from the amplifier to the demodulator. The first stage is a low-noise amplifier (LNA) with a gain of 20dB, followed by a mixer with a gain of 3dB.  So we can suffice by cascading 2 amplifier stages with a gain of 40dB each. \n",
    "\n",
    "# Series resistance in supply lines\n",
    "<figure>\n",
    "  <img src=\"./doc/series_resistance_vsup.png\" alt=\"Series resistance in supply lines: green (1mΩ) and blue (10Ω) series resistance in supply lines\" width=\"800\">\n",
    "  <figcaption>Series resistance in supply lines</figcaption>\n",
    "</figure>\n",
    "The noise source can couple back into the supply lines, which can cause unwanted oscillations in the circuit. To prevent this, a series resistance is added to the supply lines. This resistance dampens the series LC-circuit formed by the wire lead inductance and the local decoupling capacitor, reducing the high-frequency noise that can couple back into the circuit.\n",
    "This is a common practice in RF design to prevent unwanted oscillations and improve stability.  The image shows the effect of the series resistance on the supply voltage. \n",
    "\n",
    "# References\n",
    "* [Radio Design 101 - Finishing the Receiver (Episode 6)](https://youtu.be/jwbYQUTUEmE?list=PL9Ox3wpnB0kqekAyz6blg4YdvoEMoJNJY)\n",
    "* [Troubleshooting - Radio Design 101, Epilogue 2](https://www.youtube.com/watch?v=31MhI3RSQEI&list=PL9Ox3wpnB0kqekAyz6blg4YdvoEMoJNJY&index=12)\n",
    "* [FM-Receiver](https://github.com/kvdijken/FM-Receiver)"
   ]
  },
  {
   "cell_type": "code",
   "execution_count": null,
   "id": "29ab7a6a",
   "metadata": {},
   "outputs": [],
   "source": [
    "#Given\n",
    "Vcc=5 # Supply voltage\n",
    "Vc1=3 # Voltage at the collector of Q1 with respect to ground\n",
    "Ic = 1e-3 # Collector current\n",
    "Av_dB = 35 # Gain in dB\n",
    "Av = 10**(Av_dB/20) # Convert dB gain to linear scale\n",
    "\n",
    "Rc = (Vcc - Vc1) / Ic # Calculate collector resistor Rc\n",
    "print(f\"Rc = {Rc:.2f} Ohms\")\n",
    "R_E_tot = Rc / Av # Calculate emitter resistor R_E\n",
    "r_e = 26e-3 / Ic # Calculate small-signal emitter resistance r_e\n",
    "R_E = R_E_tot - r_e # Calculate actual emitter resistor value\n",
    "print(f\"R_E = {R_E:.2f} Ohms\")\n",
    "\n",
    "# Bias current\n",
    "I1 = Ic / 10\n",
    "print(f\"I1 = {I1:.3e} A\")\n",
    "\n",
    "R3 = (Ic * R_E + 0.7) / I1 # Calculate R3\n",
    "print(f\"R3 = {R3:.2f} Ohms\")\n",
    "\n",
    "R2 = 1 / I1 # Vce1 - Vce2 = 1V\n",
    "print(f\"R2 = {R2:.2f} Ohms\")\n",
    "\n",
    "R1 = (Vcc - I1 * (R2 + R3)) / I1 # Calculate R1\n",
    "print(f\"R1 = {R1:.2f} Ohms\")"
   ]
  },
  {
   "cell_type": "markdown",
   "id": "aebe0df1",
   "metadata": {},
   "source": [
    "# Inductors\n",
    "## 1.8µH\n",
    "* [WE 744762318A](https://www.we-online.com/katalog/en/datasheet/744762318A) : Q=34@10.7MHz\n",
    "* [Abracon AISC-1008F-1R8G-T](https://abracon.com/Magnetics/new/AISC-1008(F).pdf)  : Q probably around 25@10.7MHz\n",
    "* [Murata LQW2UAS1R8J0CL](https://pim.murata.com/en-eu/pim/details/?partNum=LQW2UAS1R8J0C%23) : Q@10.7MHz=26\n",
    "\n",
    "## 4.7µH\n",
    "* [WE 744762347A](https://www.we-online.com/katalog/en/datasheet/744762347A) : Q=34@10.7MHz"
   ]
  }
 ],
 "metadata": {
  "kernelspec": {
   "display_name": "Python 3",
   "language": "python",
   "name": "python3"
  },
  "language_info": {
   "codemirror_mode": {
    "name": "ipython",
    "version": 3
   },
   "file_extension": ".py",
   "mimetype": "text/x-python",
   "name": "python",
   "nbconvert_exporter": "python",
   "pygments_lexer": "ipython3",
   "version": "3.10.5"
  }
 },
 "nbformat": 4,
 "nbformat_minor": 5
}
