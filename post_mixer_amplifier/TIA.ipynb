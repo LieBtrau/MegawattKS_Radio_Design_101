{
 "cells": [
  {
   "cell_type": "markdown",
   "id": "7ed65826",
   "metadata": {},
   "source": [
    "# Design\n",
    "This amplifier will be placed between the mixer and the crystal filter.\n",
    "\n",
    "# Requirements\n",
    "* Termination insensitive : input impedance that does not depend upon the output load. Further, the output impedance should not depend upon the source at the amplifier input.\n",
    "* 50 Ohm input and output impedance\n",
    "* [Signal levels and IF amp gain](https://youtu.be/jwbYQUTUEmE?list=PL9Ox3wpnB0kqekAyz6blg4YdvoEMoJNJY&t=344)\n",
    "\n",
    "## Common base amplifier followed by a common-collector amplifier\n",
    "* [A Termination Insensitive Amplifier for Bidirectional Transceivers, W. Hayward, B.Kopski](./doc/bidirectional_matched_amplifier.pdf) shows a 12V common base amplifier followed by a common collector amplifier.  The common base amplifier has a high Ic, so input impedance is very low.  A 47ohm external resistor is used to match the 50 Ohm input impedance.  This divides down the input signal by a large factor.  The CB-amplifier then has to make up for this loss and add 10dB of gain.  So noise figure isn't great.  The first amplifier presented in that paper (CE + CC) has a NF of 6dB.\n",
    "* [Episode 1 Part 2 in Radio Design 401 : Blocking problem](https://youtu.be/tuOc61TShDg?list=PL9Ox3wpnB0krNexW2k5JMCaewXN7LoRXd&t=736) : a too large amplitude at the base will case Vbe to go too low.  Lower Vbe means lower transconductance, which means lower gain. This is called \"blocking\" and is a common problem in RF amplifiers.\n",
    "\n",
    "For a common base amplifier using the MMBT5179 with an Ic of 10mA, maxium vbe amplitude is 1mV for a 0.5% THD (i.e. 2nd harmonic is 4 0dB below the fundamental).\n",
    "\n",
    "## Common emitter amplifier followed by two common collector amplifiers\n",
    "<fig>\n",
    "  <img src=\"doc/TIA5V_sch.png\" alt=\"missing\" width=\"600\"/>\n",
    "  <figcaption>Common emitter amplifier followed by two common collector amplifiers</figcaption>\n",
    "</fig>\n",
    "\n",
    "### Common emitter amplifier design\n",
    "#### Requirements\n",
    "* Gain : 15dB\n",
    "* Frequency : 1MHz -> 100MHz\n",
    "* Input impedance : 50 Ohm\n",
    "\n",
    "#### Choice\n",
    "* Bias current : 7.5mA (as from W. Hayward : \"A Termination Insensitive Amplifier for Bidirectional Transceivers\")"
   ]
  },
  {
   "cell_type": "code",
   "execution_count": 48,
   "id": "cb64ab9d",
   "metadata": {},
   "outputs": [
    {
     "name": "stdout",
     "output_type": "stream",
     "text": [
      "External emitter resistance: 18.53 Ohm\n",
      "Transducer gain: 8.53 dB\n"
     ]
    }
   ],
   "source": [
    "import math\n",
    "\n",
    "# Load resistance\n",
    "VCC = 5.0 # Supply voltage\n",
    "V_B = 1.36 # Base DC voltage\n",
    "I_E = 7.5e-3 # Emitter current\n",
    "\n",
    "# Input impedance\n",
    "V_T = 26e-3 # Thermal voltage\n",
    "r_e = V_T / I_E # Internal Emitter resistance\n",
    "\n",
    "R_f = 330 # Feedback resistor\n",
    "R_S = 50 # Source resistor\n",
    "R_L = 220 # Load resistor\n",
    "R_d = R_S * R_L / (-R_S + R_L + R_f)\n",
    "r_d = R_d - r_e # External emitter resistance\n",
    "print(f\"External emitter resistance: {r_d:.2f} Ohm\")\n",
    "\n",
    "# Transducer gain\n",
    "G_t = 4 * R_L * R_S * (R_f - R_d)**2 / (R_d * R_L + R_d * R_f + R_S * R_L + R_S * R_d)**2\n",
    "G_t_dB = 10 * math.log10(G_t)\n",
    "print(f\"Transducer gain: {G_t_dB:.2f} dB\")"
   ]
  },
  {
   "cell_type": "code",
   "execution_count": 46,
   "id": "3538469f",
   "metadata": {},
   "outputs": [
    {
     "name": "stdout",
     "output_type": "stream",
     "text": [
      "\tStability check: NOT OK\n",
      "\tStability factor: 9.82\n",
      "\tGood biasing\n"
     ]
    }
   ],
   "source": [
    "# Calculate bias stability\n",
    "def stability_check(R1, R2, Re, hfe):\n",
    "    R_th = R1 * R2 / (R1 + R2) # Thevenin resistance\n",
    "\n",
    "    # Bowick \"Transistor Biasing\" (ISBN: 978-0-7506-8518-4): As a practical rule of thumb for stable designs, the ratio R_th/Re should be less than 10.\n",
    "    if(R_th / Re) < 10:\n",
    "        print(\"\\tStability check: OK\")\n",
    "    else:\n",
    "        print(\"\\tStability check: NOT OK\")\n",
    "\n",
    "    S = (hfe + 1) * (Re + R_th) / ((hfe+1) * Re + R_th) # Stability factor\n",
    "    print(\"\\tStability factor: {:.2f}\".format(S))\n",
    "    if S < 10:\n",
    "        print(\"\\tGood biasing\")\n",
    "    elif S < 20:\n",
    "        print(\"\\tAcceptable biasing\")\n",
    "    else:\n",
    "        print(\"\\tUnstable biasing\")\n",
    "\n",
    "# hfe for 2N3904 at 10MHz = 30 (hfe = 100 at DC, 1 at 300MHz)\n",
    "hfe = 30\n",
    "stability_check(3.6e3, 1.5e3, 82, hfe)"
   ]
  },
  {
   "cell_type": "markdown",
   "id": "bfd206ef",
   "metadata": {},
   "source": [
    "### Common collector amplifier design"
   ]
  },
  {
   "cell_type": "code",
   "execution_count": 47,
   "id": "db553a45",
   "metadata": {},
   "outputs": [
    {
     "name": "stdout",
     "output_type": "stream",
     "text": [
      "Input impedance: 12900.00 Ohm\n"
     ]
    }
   ],
   "source": [
    "# Input impedance\n",
    "R_E = 430\n",
    "Rin = hfe * R_E\n",
    "print(f\"Input impedance: {Rin:.2f} Ohm\")\n",
    "\n",
    "# Output impedance\n"
   ]
  },
  {
   "cell_type": "markdown",
   "id": "b00c764c",
   "metadata": {},
   "source": [
    "# Measurements\n",
    "| Action | Expected Result | Observed result | Status |\n",
    "|--------|-----------------|-----------------|--------|\n",
    "| V(C10) | 4.73V           | 4.70V           | ✅   |\n",
    "| Vb(Q2) | 1.37V           | 1.35V           | ✅   |\n",
    "| Ve(Q2) | 0.66V           | 0.637V          | ✅   |\n",
    "| Vb(Q1) | 2.35V           | 2.39V           | ✅   |\n",
    "| Vb(Q3) | 1.66V           | 1.69V           | ✅   |\n",
    "| Ve(Q3) | 0.93V           | 0.97V           | ✅   |\n",
    "\n",
    "<figure>\n",
    "  <img src=\"./doc/nanovna-h4_2025-08-11_21-12-49.png\" alt=\"S21 and S11 measurement\">\n",
    "  <figcaption>S-Parameters Measurement</figcaption>\n",
    "</figure>\n",
    "\n",
    "# References\n",
    "* [#207: Basics of a Cascode Amplifier and the Miller Effect](https://www.youtube.com/watch?v=Op_I3Ke7px0)\n",
    "* [The Cascode Amplifier](http://www.engr.newpaltz.edu/~zunoubm/S20/electronics2/Lecture_Notes/Cascode.pdf)\n",
    "* EMRFD : §2.7 FEEDBACK AMPLIFIERS\n",
    "* [Simple SSB Rig: Part 6 - IF Amplifiers](https://www.youtube.com/watch?v=CHdtoupH2Vg) : common emitter, single transistor\n",
    "* [40m Pelican Case SSB Radio - Part 3: LCD Display, RF Amps Topology](https://youtu.be/0f1rzZ_BglY?list=PLxU5OX0SLgIO4eot9jJvrRcx-NpZgddV-&t=333) : feedback amplifier with 2N3904 (according to EMRFD)\n",
    "* ARRL Handbook 2018 : §12.4.3 : > 30mA Ic "
   ]
  }
 ],
 "metadata": {
  "kernelspec": {
   "display_name": "Python 3",
   "language": "python",
   "name": "python3"
  },
  "language_info": {
   "codemirror_mode": {
    "name": "ipython",
    "version": 3
   },
   "file_extension": ".py",
   "mimetype": "text/x-python",
   "name": "python",
   "nbconvert_exporter": "python",
   "pygments_lexer": "ipython3",
   "version": "3.10.5"
  }
 },
 "nbformat": 4,
 "nbformat_minor": 5
}
