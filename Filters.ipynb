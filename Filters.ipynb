{
 "cells": [
  {
   "cell_type": "markdown",
   "metadata": {},
   "source": [
    "# Introduction\n",
    "* [Episode 1 - Transceivers and Filters - Part 1](https://www.youtube.com/watch?v=r_p7AHsSOdw&list=PL9Ox3wpnB0kqekAyz6blg4YdvoEMoJNJY&index=1&pp=iAQB)\n",
    "* [Episode 1 - Transceivers and Filters - Part 2](https://www.youtube.com/watch?v=He0-X6FCLMo&list=PL9Ox3wpnB0kqekAyz6blg4YdvoEMoJNJY&index=2&pp=iAQB)\n",
    "\n",
    "## Pre-select Filter\n",
    "### Parallel LC Bandpass Filter"
   ]
  },
  {
   "cell_type": "code",
   "execution_count": 3,
   "metadata": {},
   "outputs": [
    {
     "name": "stdout",
     "output_type": "stream",
     "text": [
      "Q = 4.9\n",
      "Calculated L = 8.28586750790792e-09 H\n",
      "R_Lact = 0.15788516925733317 Ohm\n",
      "C = 2.6374735433761393e-10 F\n"
     ]
    }
   ],
   "source": [
    "import math\n",
    "f_0 = 98e6 # 98 MHz, center frequency of the FM broadcast band\n",
    "B = 20e6 # 20 MHz, bandwidth (88-108 MHz)\n",
    "Rin = 50 # 50 Ohm, input impedance (antenna impedance)\n",
    "Rout = 50 # 50 Ohm, output impedance (input impedance of the amplifier)\n",
    "\n",
    "R_L = Rin * Rout / (Rin + Rout) # l\n",
    "Q = f_0 / B # Q factor\n",
    "print(f\"Q = {Q}\")\n",
    "X_0 = R_L / Q\n",
    "ω = 2 * math.pi * f_0\n",
    "\n",
    "L = X_0 / ω # inductance\n",
    "print(f\"Calculated L = {L} H\")\n",
    "\n",
    "# Select the actual part for the inductor:\n",
    "L_act = 10e-9 # 10 nH, WE 744917110\n",
    "Q_Lact = 39 # Q factor of the actual inductor\n",
    "R_Lact = ω * L_act / Q_Lact # resistance of the actual inductor\n",
    "print(f\"R_Lact = {R_Lact} Ohm\")\n",
    "\n",
    "# Calculate the capacitance\n",
    "C = 1 / (L_act * ω**2) # capacitance \n",
    "print(f\"C = {C} F\")"
   ]
  },
  {
   "cell_type": "markdown",
   "metadata": {},
   "source": [
    "The 264pF capacitor for the pre-select filter will be constituated of a 47pF and a 220pF capacitor in parallel.  A 180pF+82pF is possible too, but these values are not available at Wurth Elektronik.\n",
    "\n",
    "* L = 10nH, WE 744917110\n",
    "* C1 = 47pF, WE 885012006055\n",
    "* C2 = 220pF, WE 885012006059\n",
    "\n",
    "### Top-C Coupled resonator band pass filter\n",
    "This topology is proposed by the lecturer in the video series, but it's not used.\n",
    "\n",
    "[Filter Design Part 11. How to Design Bandpass Filter BPF with Top-Coupled Capacitive Resonator.](https://www.youtube.com/watch?v=djknXHFLqsA) gives some details about when to use this topology.  \n",
    "* low side roll/off 18dB/octave\n",
    "* high side roll/off 6dB/octave.  \n",
    "\n",
    "This makes this filter more suitable for low-side injection in which the frequency of the local oscillator is lower than the frequency of the signal.  The unwanted image frequency is lower than the wanted frequency, so it gets more suppression."
   ]
  },
  {
   "cell_type": "code",
   "execution_count": null,
   "metadata": {},
   "outputs": [
    {
     "name": "stdout",
     "output_type": "stream",
     "text": [
      "L_1 = 1.1717986205709938e-08 H\n",
      "C_1 = 2.2507907903927656e-10 F\n",
      "C_c = 3.248060063099905e-11 F\n"
     ]
    }
   ],
   "source": [
    "import math\n",
    "# Calculations from [Filter Design Part 11. How to Design Bandpass Filter BPF with Top-Coupled Capacitive Resonator.](https://www.youtube.com/watch?v=djknXHFLqsA)\n",
    "# The same calculations can also be found on [RF Circuit Design, Second Edition -- Christopher Bowick, Chapter 2, Coupling of resonant circuits]\n",
    "\n",
    "f_0 = 98e6 # 98 MHz, center frequency of the FM broadcast band\n",
    "B = 20e6 # 20 MHz, bandwidth (88-108 MHz)\n",
    "Rs = Rl = 50 # 50 Ohm, source and load impedance\n",
    "\n",
    "Q_t = f_0 / B # Q factor of the total filter\n",
    "Q_r = Q_t * math.sqrt(2) # Q factor of a single resonator\n",
    "X_L1 = Rs / Q_r # inductive reactance\n",
    "X_C1 = X_L1 # capacitive reactance\n",
    "L_1 = X_L1 / (2 * math.pi * f_0) # inductance of the resonator\n",
    "print(f\"L_1 = {L_1} H\")\n",
    "C_1 = 1 / (2 * math.pi * f_0 * X_C1) # capacitance of the resonator\n",
    "print(f\"C_1 = {C_1} F\")\n",
    "C_c = C_1 / Q_r # coupling capacitance\n",
    "print(f\"C_c = {C_c} F\")"
   ]
  },
  {
   "cell_type": "markdown",
   "metadata": {},
   "source": [
    "When simulating this filter in LTSpice, the resulting frequency response shows a center frequency considerably lower than 98MHz.  I have no idea why.\n",
    "\n",
    "Playing around a bit with the component values in LTSpice delivered a filter with the following parameters:\n",
    "* Center frequency: 98MHz\n",
    "* Bandwidth : 20MHz\n",
    "* L||C = 15nH||150pF\n",
    "* Coupling capacitor: 33pF\n",
    "\n",
    "### Conventional, shunt first band pass filter\n",
    "* Butterworth, 3rd order\n",
    "* Chebyshev, 3rd order\n",
    "\n",
    "## Simulation\n",
    "\n",
    "<figure>\n",
    "    <img src='./simulation/pre-selector-filter_schematic.png' alt='missing' />\n",
    "    <figcaption>Schematic of the three filter topologies: OUT1=parallel LC, OUT3=top C-coupled resonator, OUT4=Conventional shunt first BPF</figcaption>\n",
    "</figure>\n",
    "\n",
    "<figure>\n",
    "    <img src='./simulation/pre-selector-filter.png' alt='missing' />\n",
    "    <figcaption>Simulation results of the three filter topologies</figcaption>\n",
    "</figure>\n",
    "\n",
    "### Simulation results of the parallel LC bandpass filter\n",
    "* Center frequency: 95.5MHz\n",
    "* Insertion loss: 1.4dB\n",
    "* Return loss : > 27dB\n",
    "* Lower 3dB frequency: 83.4MHz\n",
    "* Upper 3dB frequency: 108.9MHz"
   ]
  }
 ],
 "metadata": {
  "kernelspec": {
   "display_name": "Python 3",
   "language": "python",
   "name": "python3"
  },
  "language_info": {
   "codemirror_mode": {
    "name": "ipython",
    "version": 3
   },
   "file_extension": ".py",
   "mimetype": "text/x-python",
   "name": "python",
   "nbconvert_exporter": "python",
   "pygments_lexer": "ipython3",
   "version": "3.10.5"
  }
 },
 "nbformat": 4,
 "nbformat_minor": 2
}
