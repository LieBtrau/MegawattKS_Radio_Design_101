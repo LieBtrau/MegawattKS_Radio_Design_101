{
 "cells": [
  {
   "cell_type": "markdown",
   "metadata": {},
   "source": [
    "# Purpose\n",
    "Design an amplifier that can be used as the basis for a later Q-enhanced LNA design, similar to the one described in [Episode 1, Part 3 (of 3) in Radio Design 401, by MegawattKS](https://www.youtube.com/watch?v=43wQmYeqt44&t=1282s)\n",
    "\n",
    "# Requirements\n",
    "* 20dB gain at 98MHz\n",
    "* 20MHz bandwidth, i.e. the whole FM band (88-108MHz)\n",
    "* 50ohm input impedance (no matching network needed)\n",
    "* 7V supply voltage\n",
    "* Common-base stage followed by common-emitter (aka emitter-follower) stage\n",
    "\n",
    "# Design\n",
    "## Common-base stage\n",
    "### Calculate I_c\n",
    "Input impedance for a CB-stage is approximately 1/gm, where gm is the transconductance of the transistor. The transconductance is given by gm = Ic/Vt, where Ic is the collector current and Vt is the thermal voltage (approximately 26mV at room temperature).  From that, we can calculate the collector current needed to achieve the desired input impedance.\n",
    "$$R_{in} = \\frac{1}{g_{m}},g_{m}=\\frac{I_{C}}{V_{T}}\\Rightarrow I_{C} = \\frac{V_{T}}{R_{in}}$$"
   ]
  },
  {
   "cell_type": "code",
   "execution_count": 102,
   "metadata": {},
   "outputs": [
    {
     "name": "stdout",
     "output_type": "stream",
     "text": [
      "Required collector current (I_c): 5.20e-04 A\n"
     ]
    }
   ],
   "source": [
    "# Calculat the required collector current for an input impedance of 50 ohm\n",
    "V_T = 26e-3  # Thermal voltage at room temperature in volts\n",
    "R_in = 50  # Input impedance in ohms\n",
    "I_c = V_T / R_in\n",
    "print(f\"Required collector current (I_c): {I_c:.2e} A\")"
   ]
  },
  {
   "cell_type": "markdown",
   "metadata": {},
   "source": [
    "### Calculate R_C\n",
    "From that, we can calculate the collector resistor value needed for the desired gain. The voltage gain of a common-base stage is given by:\n",
    "$$A_{Vloaded} = \\frac{A_{Vno-load}}{2}$$\n",
    "$$A_{Vno-load} = g_{m}*R_{C}$$\n",
    "$$R_{C}=\\frac{2*A_{Vloaded}}{g_{m}}$$\n",
    "Where A_Vunloaded is the desired voltage gain of the CB-stage. The CC-stage has a voltage gain of approximately 1, so the overall voltage gain of the amplifier is approximately equal to the voltage gain of the CB-stage."
   ]
  },
  {
   "cell_type": "code",
   "execution_count": 103,
   "metadata": {},
   "outputs": [
    {
     "name": "stdout",
     "output_type": "stream",
     "text": [
      "Collector resistance (R_C): 1000.00 ohm\n"
     ]
    }
   ],
   "source": [
    "G_T_dB = 20  # total gain in dB\n",
    "G_T = 10 ** (G_T_dB / 20)  # Total voltage gain in linear scale\n",
    "A_Vunloaded = 2* G_T # Unloaded voltage gain in volts\n",
    "g_m = I_c / V_T  # Transconductance in S (Siemens)\n",
    "R_C = A_Vunloaded / g_m\n",
    "print(f\"Collector resistance (R_C): {R_C:.2f} ohm\")"
   ]
  },
  {
   "cell_type": "markdown",
   "metadata": {},
   "source": [
    "### Calculate biasing network"
   ]
  },
  {
   "cell_type": "code",
   "execution_count": 104,
   "metadata": {},
   "outputs": [
    {
     "name": "stdout",
     "output_type": "stream",
     "text": [
      "\tEmitter resistor: 2884.62 ohm\n",
      "\tBottom bias resistor: 36858.97 ohm\n",
      "\tTop bias resistor: 69526.63 ohm\n",
      "\tStability check: OK\n",
      "\tStability factor: 8.64\n",
      "\tGood biasing\n"
     ]
    }
   ],
   "source": [
    "def calc_bias(Ic, Vbe, V_E, hfe):\n",
    "    # Calculate biasing resistors\n",
    "    Re = V_E / Ic # Emitter resistor\n",
    "    print(\"\\tEmitter resistor: {:.2f} ohm\".format(Re))\n",
    "    Ib = Ic / hfe # Base current\n",
    "    V_R2 = Vbe + V_E # Voltage over R2\n",
    "    I_R2 = 12 * Ib # Current through R2 for stable biasing\n",
    "    R2 = V_R2 / I_R2 # Base resistor\n",
    "    print(\"\\tBottom bias resistor: {:.2f} ohm\".format(R2))\n",
    "    V_R1 = Vcc - V_R2 # Voltage over R1\n",
    "    I_R1 = I_R2 + Ib # Current through R1\n",
    "    R1 = V_R1 / I_R1 # Top bias resistor\n",
    "    print(\"\\tTop bias resistor: {:.2f} ohm\".format(R1))\n",
    "    return R1, R2, Re\n",
    "\n",
    "def stability_check(R1, R2, Re, hfe):\n",
    "    R_th = R1 * R2 / (R1 + R2) # Thevenin resistance\n",
    "\n",
    "    # Bowick \"Transistor Biasing\" (ISBN: 978-0-7506-8518-4): As a practical rule of thumb for stable designs, the ratio R_th/Re should be less than 10.\n",
    "    if(R_th / Re) < 10:\n",
    "        print(\"\\tStability check: OK\")\n",
    "    else:\n",
    "        print(\"\\tStability check: NOT OK\")\n",
    "\n",
    "    S = (hfe + 1) * (Re + R_th) / ((hfe+1) * Re + R_th) # Stability factor\n",
    "    print(\"\\tStability factor: {:.2f}\".format(S))\n",
    "    if S < 10:\n",
    "        print(\"\\tGood biasing\")\n",
    "    elif S < 20:\n",
    "        print(\"\\tAcceptable biasing\")\n",
    "    else:\n",
    "        print(\"\\tUnstable biasing\")\n",
    "\n",
    "Vcc = 7 # Supply voltage\n",
    "Vbe = 0.8 # Base-emitter voltage\n",
    "V_E = 1.5 # Assumed voltage over emitter resistor\n",
    "hfe = 100 # Current gain\n",
    "\n",
    "[R1, R2, Re] = calc_bias(I_c, Vbe, V_E, hfe)\n",
    "\n",
    "stability_check(R1, R2, Re, hfe)"
   ]
  },
  {
   "cell_type": "markdown",
   "metadata": {},
   "source": [
    "We have now enough info to draw the first schematic. The DC-operating point analysis can be used to check our calculations.\n",
    "\n",
    "<figure>\n",
    "<img src=\"./doc/DC-operating_point.png\" width=\"80%\"/>\n",
    "<figcaption>DC-operating point</figcaption>\n",
    "</figure>\n",
    "\n",
    "## Common-collector stage\n",
    "\n",
    "Let's start off by using the same DC-biasing scheme as the common-base stage.  Two transistors will be used.  One will be used for feedback, while the other will be used as output buffer.  They will share the same DC-biasing stage.\n",
    "\n",
    "## Image filter"
   ]
  },
  {
   "cell_type": "code",
   "execution_count": 105,
   "metadata": {},
   "outputs": [
    {
     "name": "stdout",
     "output_type": "stream",
     "text": [
      "\tQuality factor Q = 4.90\n",
      "\tCalculated L = 3.31e-07 H\n",
      "\tCalculated C = 7.96e-12 F\n",
      "\tCalculated B = 2.00e+07 Hz\n"
     ]
    }
   ],
   "source": [
    "import math \n",
    "def parallel_RLC(Rp, B, f_0):\n",
    "    ω = 2 * math.pi * f_0\n",
    "    Q = f_0 / B\n",
    "    print(\"\\tQuality factor Q = {:.2f}\".format(Q))\n",
    "    X_0 = Rp / Q\n",
    "    L = X_0 / ω\n",
    "    print(\"\\tCalculated L = {:.2e} H\".format(L))\n",
    "    C = 1 / (ω * X_0)\n",
    "    print(\"\\tCalculated C = {:.2e} F\".format(C))\n",
    "    B = f_0 / Q\n",
    "    print(\"\\tCalculated B = {:.2e} Hz\".format(B))\n",
    "    return L, C, B\n",
    "\n",
    "f = 98e6 # 98 MHz, center frequency of the FM broadcast band\n",
    "B = 20e6 # 20 MHz, bandwidth (88-108 MHz)\n",
    "L, C, B = parallel_RLC(R_C, B, f)"
   ]
  },
  {
   "cell_type": "markdown",
   "metadata": {},
   "source": [
    "Adding these values in the simulation resulted in an f_0 of 77.5MHz and a Q of 4.47."
   ]
  },
  {
   "cell_type": "code",
   "execution_count": 106,
   "metadata": {},
   "outputs": [
    {
     "name": "stdout",
     "output_type": "stream",
     "text": [
      "\tCalculated Rp = 7.18e+02 ohm\n",
      "\tCalculated R_parasitic = 2.55e+03 ohm\n",
      "\tCalculated R_C = 1.65e+03 ohm\n"
     ]
    }
   ],
   "source": [
    "f_real = 77.5e6 # 77.5 MHz\n",
    "Q_real = 4.47\n",
    "L = 330e-9 # 330 nH\n",
    "ω = 2 * math.pi * f_real\n",
    "X_0 = ω * L\n",
    "Rp_real = X_0 * Q_real\n",
    "print(\"\\tCalculated Rp = {:.2e} ohm\".format(Rp_real))\n",
    "R_parasitic  = R_C * Rp_real / (R_C - Rp_real)\n",
    "print(\"\\tCalculated R_parasitic = {:.2e} ohm\".format(R_parasitic))\n",
    "\n",
    "# Now we can calculate the needed R_C for an equivalent R_p of 1000 ohm\n",
    "R_p = 1000  # Target parallel resistance\n",
    "R_C = R_parasitic * R_p / (R_parasitic - R_p)\n",
    "print(\"\\tCalculated R_C = {:.2e} ohm\".format(R_C))"
   ]
  },
  {
   "cell_type": "markdown",
   "metadata": {},
   "source": [
    "So, the new R_C is 1600ohm."
   ]
  },
  {
   "cell_type": "code",
   "execution_count": 107,
   "metadata": {},
   "outputs": [
    {
     "name": "stdout",
     "output_type": "stream",
     "text": [
      "\tQuality factor Q = 4.90\n",
      "\tCalculated L = 5.45e-07 H\n",
      "\tCalculated C = 4.84e-12 F\n",
      "\tCalculated B = 2.00e+07 Hz\n"
     ]
    }
   ],
   "source": [
    "L, C, B = parallel_RLC(R_C, B, f)"
   ]
  },
  {
   "cell_type": "markdown",
   "metadata": {},
   "source": [
    "The problem with this is that needed capacitor is smaller than the parasitic capacitance (even without taking into account the parasitic capacitance of the PCB).  \n",
    "\n",
    "Let's keep the R_C of 1kohm and live with the reduced gain.  Using L = 222nH (WE 744918222) and C = 6.7pF, gives us center frequency of 98MHz, a peak gain of 18.8dB and a Q of 4.87.\n",
    "\n",
    "We might also stock up on smaller value inductors.  These will needed bigger capacitors, but the Q will be higher.\n",
    "\n",
    "<figure>\n",
    "<img src=\"./doc/service_band_gain.png\" width=\"80%\"/>\n",
    "<figcaption>Service band gain and input match</figcaption>\n",
    "</figure>\n",
    "\n",
    "<figure>\n",
    "<img src=\"./doc/S-parameter_simulation.png\" width=\"80%\"/>\n",
    "<figcaption>S-parameter simulation for 10MHz to 500MHz</figcaption>\n",
    "</figure>"
   ]
  }
 ],
 "metadata": {
  "kernelspec": {
   "display_name": "Python 3",
   "language": "python",
   "name": "python3"
  },
  "language_info": {
   "codemirror_mode": {
    "name": "ipython",
    "version": 3
   },
   "file_extension": ".py",
   "mimetype": "text/x-python",
   "name": "python",
   "nbconvert_exporter": "python",
   "pygments_lexer": "ipython3",
   "version": "3.10.5"
  }
 },
 "nbformat": 4,
 "nbformat_minor": 2
}
