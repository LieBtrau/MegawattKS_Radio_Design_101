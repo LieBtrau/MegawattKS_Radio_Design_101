{
 "cells": [
  {
   "cell_type": "markdown",
   "metadata": {},
   "source": [
    "# Purpose\n",
    "Design an amplifier that can be used as the basis for a later Q-enhanced LNA design, similar to the one described in [Episode 1, Part 3 (of 3) in Radio Design 401, by MegawattKS](https://www.youtube.com/watch?v=43wQmYeqt44&t=1282s)\n",
    "\n",
    "When looking for an integrated circuit (IC) solution, the Mini-circuits PSA4-5043+ or PGA-103+ are good candidates. They have a very low noise figure (NF) and are affordable and available.  A design with the PSA4-5043+ is shown [here](http://www.g4ddk.com/Anglian3lschematic.pdf) also used in the LNA4ALL.\n",
    "\n",
    "Infineon has [dedicated FM LNA transistors](https://www.infineon.com/dgdl/Infineon-Design_Guide_for_low_noise_TR_in_FM_radio_FE-ApplicationNotes-v01_00-EN.pdf).  Alternatively, discrete wide band LNA designs [exist](https://www.qsl.net/va3iul/High_Frequency_LNA_schematics/High_Frequency_LNA_schematics.htm).\n",
    "\n",
    "\n",
    "# Requirements\n",
    "* 20dB gain at 98MHz\n",
    "* 20MHz bandwidth, i.e. the whole FM band (88-108MHz)\n",
    "* 50ohm input impedance (no matching network needed)\n",
    "* 5V supply voltage\n",
    "* Common-base stage followed by common-emitter (aka emitter-follower) stage\n",
    "\n",
    "# Design\n",
    "## Common-base stage\n",
    "### Calculate I_c\n",
    "Input impedance for a CB-stage is approximately 1/gm, where gm is the transconductance of the transistor. The transconductance is given by gm = Ic/Vt, where Ic is the collector current and Vt is the thermal voltage (approximately 26mV at room temperature).  From that, we can calculate the collector current needed to achieve the desired input impedance.\n",
    "$$R_{in} = \\frac{1}{g_{m}},g_{m}=\\frac{I_{C}}{V_{T}}\\Rightarrow I_{C} = \\frac{V_{T}}{R_{in}}$$"
   ]
  },
  {
   "cell_type": "code",
   "execution_count": 1,
   "metadata": {},
   "outputs": [
    {
     "name": "stdout",
     "output_type": "stream",
     "text": [
      "Required collector current (I_c): 5.20e-04 A\n"
     ]
    }
   ],
   "source": [
    "# Calculat the required collector current for an input impedance of 50 ohm\n",
    "V_T = 26e-3  # Thermal voltage at room temperature in volts\n",
    "R_in = 50  # Input impedance in ohms\n",
    "I_c = V_T / R_in\n",
    "print(f\"Required collector current (I_c): {I_c:.2e} A\")"
   ]
  },
  {
   "cell_type": "markdown",
   "metadata": {},
   "source": [
    "To handle larger input signals, Ic needs to be higher.  This results in a lower input impedance, which will require a matching network."
   ]
  },
  {
   "cell_type": "markdown",
   "metadata": {},
   "source": [
    "### Calculate R_C\n",
    "From that, we can calculate the collector resistor value needed for the desired gain. The voltage gain of a common-base stage is given by:\n",
    "$$A_{Vloaded} = \\frac{A_{Vno-load}}{2}$$\n",
    "$$A_{Vno-load} = g_{m}*R_{C}$$\n",
    "$$R_{C}=\\frac{2*A_{Vloaded}}{g_{m}}$$\n",
    "Where A_Vunloaded is the desired voltage gain of the CB-stage. The CC-stage has a voltage gain of approximately 1, so the overall voltage gain of the amplifier is approximately equal to the voltage gain of the CB-stage."
   ]
  },
  {
   "cell_type": "code",
   "execution_count": 2,
   "metadata": {},
   "outputs": [
    {
     "name": "stdout",
     "output_type": "stream",
     "text": [
      "Collector resistance (R_C): 1000.00 ohm\n"
     ]
    }
   ],
   "source": [
    "G_T_dB = 20  # total gain in dB\n",
    "G_T = 10 ** (G_T_dB / 20)  # Total voltage gain in linear scale\n",
    "A_Vunloaded = 2* G_T # Unloaded voltage gain in volts\n",
    "g_m = I_c / V_T  # Transconductance in S (Siemens)\n",
    "R_C = A_Vunloaded / g_m\n",
    "print(f\"Collector resistance (R_C): {R_C:.2f} ohm\")"
   ]
  },
  {
   "cell_type": "markdown",
   "metadata": {},
   "source": [
    "### Calculate biasing network"
   ]
  },
  {
   "cell_type": "code",
   "execution_count": 3,
   "metadata": {},
   "outputs": [
    {
     "name": "stdout",
     "output_type": "stream",
     "text": [
      "\tEmitter resistor: 1346.15 ohm\n",
      "\tBottom bias resistor: 24038.46 ohm\n",
      "\tTop bias resistor: 51775.15 ohm\n",
      "\tStability check: NOT OK\n",
      "\tStability factor: 11.77\n",
      "\tAcceptable biasing\n"
     ]
    }
   ],
   "source": [
    "def calc_bias(Ic, Vbe, V_E, hfe):\n",
    "    # Calculate biasing resistors\n",
    "    Re = V_E / Ic # Emitter resistor\n",
    "    print(\"\\tEmitter resistor: {:.2f} ohm\".format(Re))\n",
    "    Ib = Ic / hfe # Base current\n",
    "    V_R2 = Vbe + V_E # Voltage over R2\n",
    "    I_R2 = 12 * Ib # Current through R2 for stable biasing\n",
    "    R2 = V_R2 / I_R2 # Base resistor\n",
    "    print(\"\\tBottom bias resistor: {:.2f} ohm\".format(R2))\n",
    "    V_R1 = Vcc - V_R2 # Voltage over R1\n",
    "    I_R1 = I_R2 + Ib # Current through R1\n",
    "    R1 = V_R1 / I_R1 # Top bias resistor\n",
    "    print(\"\\tTop bias resistor: {:.2f} ohm\".format(R1))\n",
    "    return R1, R2, Re\n",
    "\n",
    "def stability_check(R1, R2, Re, hfe):\n",
    "    R_th = R1 * R2 / (R1 + R2) # Thevenin resistance\n",
    "\n",
    "    # Bowick \"Transistor Biasing\" (ISBN: 978-0-7506-8518-4): As a practical rule of thumb for stable designs, the ratio R_th/Re should be less than 10.\n",
    "    if(R_th / Re) < 10:\n",
    "        print(\"\\tStability check: OK\")\n",
    "    else:\n",
    "        print(\"\\tStability check: NOT OK\")\n",
    "\n",
    "    S = (hfe + 1) * (Re + R_th) / ((hfe+1) * Re + R_th) # Stability factor\n",
    "    print(\"\\tStability factor: {:.2f}\".format(S))\n",
    "    if S < 10:\n",
    "        print(\"\\tGood biasing\")\n",
    "    elif S < 20:\n",
    "        print(\"\\tAcceptable biasing\")\n",
    "    else:\n",
    "        print(\"\\tUnstable biasing\")\n",
    "\n",
    "Vcc = 5 # Supply voltage\n",
    "Vbe = 0.8 # Base-emitter voltage\n",
    "V_E = 0.7 # Assumed voltage over emitter resistor\n",
    "hfe = 100 # Current gain\n",
    "\n",
    "[R1, R2, Re] = calc_bias(I_c, Vbe, V_E, hfe)\n",
    "\n",
    "stability_check(R1, R2, Re, hfe)"
   ]
  },
  {
   "cell_type": "markdown",
   "metadata": {},
   "source": [
    "We have now enough info to draw the first schematic. The DC-operating point analysis can be used to check our calculations.\n",
    "\n",
    "<figure>\n",
    "<img src=\"./doc/DC-operating_point.png\" width=\"80%\"/>\n",
    "<figcaption>DC-operating point</figcaption>\n",
    "</figure>\n",
    "\n",
    "## Common-collector stage\n",
    "\n",
    "For maximum output swing, the emitter should be biased at half the supply voltage. \n",
    "\n",
    "## Image filter"
   ]
  },
  {
   "cell_type": "code",
   "execution_count": 4,
   "metadata": {},
   "outputs": [
    {
     "name": "stdout",
     "output_type": "stream",
     "text": [
      "\tQuality factor Q = 4.90\n",
      "\tCalculated L = 3.31e-07 H\n",
      "\tCalculated C = 7.96e-12 F\n",
      "\tCalculated B = 2.00e+07 Hz\n"
     ]
    }
   ],
   "source": [
    "import math \n",
    "def parallel_RLC(Rp, B, f_0):\n",
    "    ω = 2 * math.pi * f_0\n",
    "    Q = f_0 / B\n",
    "    print(\"\\tQuality factor Q = {:.2f}\".format(Q))\n",
    "    X_0 = Rp / Q\n",
    "    L = X_0 / ω\n",
    "    print(\"\\tCalculated L = {:.2e} H\".format(L))\n",
    "    C = 1 / (ω * X_0)\n",
    "    print(\"\\tCalculated C = {:.2e} F\".format(C))\n",
    "    B = f_0 / Q\n",
    "    print(\"\\tCalculated B = {:.2e} Hz\".format(B))\n",
    "    return L, C, B\n",
    "\n",
    "f = 98e6 # 98 MHz, center frequency of the FM broadcast band\n",
    "B = 20e6 # 20 MHz, bandwidth (88-108 MHz)\n",
    "L, C, B = parallel_RLC(R_C, B, f)"
   ]
  },
  {
   "cell_type": "markdown",
   "metadata": {},
   "source": [
    "Adding these values in the simulation resulted in an f_0 of 77.5MHz and a Q of 4.47."
   ]
  },
  {
   "cell_type": "code",
   "execution_count": 5,
   "metadata": {},
   "outputs": [
    {
     "name": "stdout",
     "output_type": "stream",
     "text": [
      "\tCalculated Rp = 7.18e+02 ohm\n",
      "\tCalculated R_parasitic = 2.55e+03 ohm\n",
      "\tCalculated R_C = 1.65e+03 ohm\n"
     ]
    }
   ],
   "source": [
    "f_real = 77.5e6 # 77.5 MHz\n",
    "Q_real = 4.47\n",
    "L = 330e-9 # 330 nH\n",
    "ω = 2 * math.pi * f_real\n",
    "X_0 = ω * L\n",
    "Rp_real = X_0 * Q_real\n",
    "print(\"\\tCalculated Rp = {:.2e} ohm\".format(Rp_real))\n",
    "R_parasitic  = R_C * Rp_real / (R_C - Rp_real)\n",
    "print(\"\\tCalculated R_parasitic = {:.2e} ohm\".format(R_parasitic))\n",
    "\n",
    "# Now we can calculate the needed R_C for an equivalent R_p of 1000 ohm\n",
    "R_p = 1000  # Target parallel resistance\n",
    "R_C = R_parasitic * R_p / (R_parasitic - R_p)\n",
    "print(\"\\tCalculated R_C = {:.2e} ohm\".format(R_C))"
   ]
  },
  {
   "cell_type": "markdown",
   "metadata": {},
   "source": [
    "So, the new R_C is 1600ohm."
   ]
  },
  {
   "cell_type": "code",
   "execution_count": 6,
   "metadata": {},
   "outputs": [
    {
     "name": "stdout",
     "output_type": "stream",
     "text": [
      "\tQuality factor Q = 4.90\n",
      "\tCalculated L = 5.45e-07 H\n",
      "\tCalculated C = 4.84e-12 F\n",
      "\tCalculated B = 2.00e+07 Hz\n"
     ]
    }
   ],
   "source": [
    "L, C, B = parallel_RLC(R_C, B, f)"
   ]
  },
  {
   "cell_type": "markdown",
   "metadata": {},
   "source": [
    "The problem with this is that needed capacitor is smaller than the parasitic capacitance (even without taking into account the parasitic capacitance of the PCB).  \n",
    "\n",
    "Let's keep the R_C of 1kohm and live with the reduced gain.  Using L = 222nH (WE 744918222) and C = 7.5pF, gives us center frequency of 98MHz, a peak gain of 18.8dB and a Q of 4.87.\n",
    "\n",
    "We might also stock up on smaller value inductors.  These will needed bigger capacitors, but the Q will be higher.\n",
    "\n",
    "<figure>\n",
    "<img src=\"./doc/service_band_gain.png\" width=\"80%\"/>\n",
    "<figcaption>Service band gain and input match</figcaption>\n",
    "</figure>\n",
    "\n",
    "# OIP3 : Third order intercept point\n",
    "More info on [Analog Devices : IP3 and Intermodulation Guide](https://www.analog.com/en/resources/technical-articles/ip3-and-intermodulation-guide.html)\n",
    "\n",
    "According to this application note, a +5dBm is ok for an LNA, but it's not good enough for the RF-frontend of a receiver.\n",
    "\n",
    "Infineon's [Design guide for low-noise transistors in FM radio front ends](https://www.infineon.com/dgdl/Infineon-Design_Guide_for_low_noise_TR_in_FM_radio_FE-ApplicationNotes-v01_00-EN.pdf?fileId=8ac78c8c7e7124d1017f0227976a6c9d) use lower supply voltage (1.8V) which makes it harder to achieve a good OIP3.  They arrive at +3dBm.\n",
    "\n",
    "The PSA4-5043+ has an OIP3 of +32dBm (5VDC supply)."
   ]
  },
  {
   "cell_type": "code",
   "execution_count": 11,
   "metadata": {},
   "outputs": [
    {
     "name": "stdout",
     "output_type": "stream",
     "text": [
      "Output IP3: 4.76 dBm\n"
     ]
    }
   ],
   "source": [
    "# From LTSpice simulation:\n",
    "VOUT_dbV = -32.4 # Output voltage in dBV of the fundamentals\n",
    "ΔP_dB = 48.3 # difference in output power between the fundamental and the third harmonic\n",
    "n = 3 # order of the harmonic\n",
    "\n",
    "POUT_dBm = VOUT_dbV + 30 - 10 * math.log10(50) # Convert to dBm\n",
    "OIP3 = POUT_dBm + ΔP_dB/(n-1)\n",
    "print(f\"Output IP3: {OIP3:.2f} dBm\")"
   ]
  },
  {
   "cell_type": "markdown",
   "metadata": {},
   "source": [
    "# Measurements\n",
    "## DC-operating point (L7 not placed)\n",
    "* Vb(Q3) = \n",
    "* Ve(Q3) = \n",
    "* Vc(Q3) = \n",
    "* Vb(Q1) = \n",
    "* Ve(Q1) = \n",
    "* Vc(Q1) = \n",
    "\n",
    "## Input impedance\n",
    "\n",
    "The output power of the NanoVNA will overdrive this amplifier.  To fix this, a 20dB attenuator was added on port 0 and the ouput power was set to 2mA (=minimum output power).  Then the calibration was done again."
   ]
  },
  {
   "cell_type": "markdown",
   "metadata": {},
   "source": [
    "# Q-enhanced LNA\n",
    "## Design\n",
    "1. The relationship between the feedback resistor and the gain bandwidth is exponential.\n",
    "2. The feedback amplifies the Q of the circuit.  The higher the open-loop Q, the lower the amount of feedback needed to achieve the same closed loop Q.  Higher Q can be achieved using inductors with a smaller inductance.\n",
    "3. Tuning across the band, changes the tuning capacitor and hence also the Q of the circuit.  This means that the feedback resistor needs to be adjusted to keep the Q constant across the band.\n",
    "\n",
    "MegawattKS suggests starting with an open loop Q of 50.  With an R_C of 1k, we already simulated that R_p is 718ohm."
   ]
  },
  {
   "cell_type": "code",
   "execution_count": 8,
   "metadata": {},
   "outputs": [
    {
     "name": "stdout",
     "output_type": "stream",
     "text": [
      "\tCalculated L = 2.33e-08 H\n",
      "\tCalculated C = 1.13e-10 F\n"
     ]
    }
   ],
   "source": [
    "f_0 = 98e6\n",
    "Q = 50\n",
    "R_p = 718\n",
    "X_0 = R_p / Q\n",
    "ω = 2 * math.pi * f_0\n",
    "L = X_0 / ω\n",
    "print(\"\\tCalculated L = {:.2e} H\".format(L))\n",
    "C = 1 / (ω * X_0)\n",
    "print(\"\\tCalculated C = {:.2e} F\".format(C))"
   ]
  },
  {
   "cell_type": "code",
   "execution_count": 9,
   "metadata": {},
   "outputs": [],
   "source": [
    "def calc_C(f0, L):\n",
    "    # Calculate the capacitance needed for a parallel resonant circuit\n",
    "    C = 1 / (4 * math.pi**2 * f0**2 * L)\n",
    "    return C\n",
    "def calc_Q(f0, C, R):\n",
    "    return R * 2 * math.pi * f0 * C\n",
    "\n",
    "C1 = calc_C(88e6, 100e-9) # 98 MHz, 330 nH\n",
    "Q1 = calc_Q(88e6, C1, R_C) # 98 MHz, 330 nH\n",
    "Cm = calc_C(98e6, 100e-9) # 98 MHz, 330 nH\n",
    "Qm = calc_Q(98e6, Cm, R_C) # 98 MHz, 330 nH\n",
    "C2 = calc_C(108e6, 100e-9) # 98 MHz, 330 nH\n",
    "Q2 = calc_Q(108e6, C2, R_C) # 98 MHz, 330 nH\n",
    "dQ = (Q2 - Q1)/Qm # 98 MHz, 330 nH\n"
   ]
  },
  {
   "cell_type": "markdown",
   "metadata": {},
   "source": [
    "# Noise figure\n",
    "\n",
    "The simulated noise figure is 3.5dB.  That's not really fantastic, but it's not bad either."
   ]
  }
 ],
 "metadata": {
  "kernelspec": {
   "display_name": "Python 3",
   "language": "python",
   "name": "python3"
  },
  "language_info": {
   "codemirror_mode": {
    "name": "ipython",
    "version": 3
   },
   "file_extension": ".py",
   "mimetype": "text/x-python",
   "name": "python",
   "nbconvert_exporter": "python",
   "pygments_lexer": "ipython3",
   "version": "3.10.5"
  }
 },
 "nbformat": 4,
 "nbformat_minor": 2
}
