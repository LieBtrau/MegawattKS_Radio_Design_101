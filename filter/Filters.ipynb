{
 "cells": [
  {
   "cell_type": "markdown",
   "metadata": {},
   "source": [
    "# Pre-select Filter\n",
    "\n",
    "If you don't want to make it, [buy it](https://www.marrold.co.uk/2021/07/bg7tbl-88-108mhz-fm-bpf-band-pass-filter.html).\n",
    "\n",
    "Token Electronics or LGE still makes these ceramic filters : [BP76108M](https://www.aliexpress.com/item/1005005078631263.html):\n",
    "* 0 -> 25MHz and 170 -> 250MHz: only 20dB attenuation\n",
    "* insertion loss: 3dB in the passband\n",
    "\n",
    "If you want a better filter, keep reading.\n",
    "\n",
    "Three topologies will be discussed:\n",
    "1. Parallel LC Bandpass Filter : very low inductance, hard to control.\n",
    "2. Top-C Coupled resonator band pass filter\n",
    "3. Lumped LC-filter : Convential series first bandpass filter\n",
    "\n",
    "## Parallel LC Bandpass Filter"
   ]
  },
  {
   "cell_type": "code",
   "execution_count": 10,
   "metadata": {},
   "outputs": [
    {
     "name": "stdout",
     "output_type": "stream",
     "text": [
      "Q = 4.9\n",
      "Calculated L = 8.28586750790792e-09 H\n",
      "R_Lact = 0.15788516925733317 Ohm\n",
      "C = 2.6374735433761393e-10 F\n"
     ]
    }
   ],
   "source": [
    "import math\n",
    "f_0 = 98e6 # 98 MHz, center frequency of the FM broadcast band\n",
    "B = 20e6 # 20 MHz, bandwidth (88-108 MHz)\n",
    "Rin = 50 # 50 Ohm, input impedance (antenna impedance)\n",
    "Rout = 50 # 50 Ohm, output impedance (input impedance of the amplifier)\n",
    "\n",
    "R_L = Rin * Rout / (Rin + Rout) # l\n",
    "Q = f_0 / B # Q factor\n",
    "print(f\"Q = {Q}\")\n",
    "X_0 = R_L / Q\n",
    "ω = 2 * math.pi * f_0\n",
    "\n",
    "L = X_0 / ω # inductance\n",
    "print(f\"Calculated L = {L} H\")\n",
    "\n",
    "# Select the actual part for the inductor:\n",
    "L_act = 10e-9 # 10 nH, WE 744917110\n",
    "Q_Lact = 39 # Q factor of the actual inductor\n",
    "R_Lact = ω * L_act / Q_Lact # resistance of the actual inductor\n",
    "print(f\"R_Lact = {R_Lact} Ohm\")\n",
    "\n",
    "# Calculate the capacitance\n",
    "C = 1 / (L_act * ω**2) # capacitance \n",
    "print(f\"C = {C} F\")"
   ]
  },
  {
   "cell_type": "markdown",
   "metadata": {},
   "source": [
    "The 264pF capacitor for the pre-select filter will be constituated of a 47pF and a 220pF capacitor in parallel.  A 180pF+82pF is possible too, but these values are not available at Wurth Elektronik.\n",
    "\n",
    "* L = 10nH, WE 744917110\n",
    "* C1 = 47pF, WE 885012006055\n",
    "* C2 = 220pF, WE 885012006059\n",
    "\n",
    "The inductor value is very low.  Every piece of PCB-trace added will have a significant impact.\n",
    "\n",
    "## Top-C Coupled resonator band pass filter\n",
    "This topology is proposed by the lecturer in the video series.\n",
    "\n",
    "[Filter Design Part 11. How to Design Bandpass Filter BPF with Top-Coupled Capacitive Resonator.](https://www.youtube.com/watch?v=djknXHFLqsA) gives some details about when to use this topology.  \n",
    "* low side roll/off 18dB/octave\n",
    "* high side roll/off 6dB/octave.  \n",
    "\n",
    "This makes this filter more suitable for low-side injection in which the frequency of the local oscillator is lower than the frequency of the signal.  The unwanted image frequency is lower than the wanted frequency, so it gets more suppression."
   ]
  },
  {
   "cell_type": "code",
   "execution_count": 11,
   "metadata": {},
   "outputs": [
    {
     "name": "stdout",
     "output_type": "stream",
     "text": [
      "L_1 = 1.1717986205709938e-08 H\n",
      "C_1 = 2.2507907903927656e-10 F\n",
      "C_c = 3.248060063099905e-11 F\n"
     ]
    }
   ],
   "source": [
    "import math\n",
    "# Calculations from [Filter Design Part 11. How to Design Bandpass Filter BPF with Top-Coupled Capacitive Resonator.](https://www.youtube.com/watch?v=djknXHFLqsA)\n",
    "# The same calculations can also be found on [RF Circuit Design, Second Edition -- Christopher Bowick, Chapter 2, Coupling of resonant circuits]\n",
    "\n",
    "f_0 = 98e6 # 98 MHz, center frequency of the FM broadcast band\n",
    "B = 20e6 # 20 MHz, bandwidth (88-108 MHz)\n",
    "Rs = Rl = 50 # 50 Ohm, source and load impedance\n",
    "\n",
    "Q_t = f_0 / B # Q factor of the total filter\n",
    "Q_r = Q_t * math.sqrt(2) # Q factor of a single resonator\n",
    "X_L1 = Rs / Q_r # inductive reactance\n",
    "X_C1 = X_L1 # capacitive reactance\n",
    "L_1 = X_L1 / (2 * math.pi * f_0) # inductance of the resonator\n",
    "print(f\"L_1 = {L_1} H\")\n",
    "C_1 = 1 / (2 * math.pi * f_0 * X_C1) # capacitance of the resonator\n",
    "print(f\"C_1 = {C_1} F\")\n",
    "C_c = C_1 / Q_r # coupling capacitance\n",
    "print(f\"C_c = {C_c} F\")"
   ]
  },
  {
   "cell_type": "markdown",
   "metadata": {},
   "source": [
    "When simulating this filter in LTSpice, the resulting frequency response shows a center frequency considerably lower than 98MHz.  I have no idea why.\n",
    "\n",
    "Playing around a bit with the component values in LTSpice delivered a filter with the following parameters:\n",
    "* Center frequency: 98MHz\n",
    "* Bandwidth : 20MHz\n",
    "* L||C = 15nH||150pF\n",
    "* Coupling capacitor: 33pF"
   ]
  },
  {
   "cell_type": "code",
   "execution_count": 12,
   "metadata": {},
   "outputs": [
    {
     "name": "stdout",
     "output_type": "stream",
     "text": [
      "L = 1.0204081632653061e-07 H\n",
      "C12 = 3.729387590333861e-12 F\n",
      "CE = 1.0922294985640286e-11 F\n",
      "CT = 1.1195558149112024e-11 F\n"
     ]
    }
   ],
   "source": [
    "# Double-tuned circuits according to Experimental methods in RF design, Hayward, Campbell, Larkin, p.3.14\n",
    "\n",
    "F = 98e6 # 98 MHz, center frequency of the FM broadcast band\n",
    "B = 20e6 # 20 MHz, bandwidth (88-108 MHz)\n",
    "L = 10/F # H, suggested value for the inductance\n",
    "Qu = 60 # unloaded Q factor of the inductance\n",
    "k = 0.707 # coupling coefficient for Butterworth response\n",
    "q = 1.414 # Q factor for Butterworth response\n",
    "R0 = 50 # 50 Ohm, characteristic impedance\n",
    "\n",
    "import math\n",
    "print(f\"L = {L} H\")\n",
    "ω = 2 * math.pi * F\n",
    "C0 = 1 / (ω**2 * L) # F, intermediate value for the capacitance\n",
    "C12 = C0 * k * B / F # F, capacitance of the coupling capacitor\n",
    "print(f\"C12 = {C12} F\")\n",
    "QE = q * F * Qu / ( B * Qu - q * F ) # effective Q factor\n",
    "CE = 1 / (ω * math.sqrt(R0 * QE * ω * L - R0**2)) # F, capacitor between the source/load and the resonator\n",
    "print(f\"CE = {CE} F\")\n",
    "CT = C0 - CE - C12 # F, capacitance of the resonator\n",
    "print(f\"CT = {CT} F\")"
   ]
  },
  {
   "cell_type": "markdown",
   "metadata": {},
   "source": [
    "This topology has some disadvantages:\n",
    "* Requires 7 components\n",
    "* Limited roll-off on the high side\n",
    "* Small capacitor values (can be worked around by putting capacitors in parallel, thus using even more components)\n",
    "\n",
    "The advantage however is that the filter can be tuned by changing the resonator capacitors, as discussed in [Secrets of RF Circuit Design, §MOSFET preselector circuits]()\n",
    "\n",
    "[Designing Narrow-Bandwidth Ladder Filters by Wes Hayward, w7zoi, April 7, 2019](https://w7zoi.net/filters/genfil.pdf) explains well how to design this filter.\n",
    "\n",
    "## Conventional, series first band pass filter\n",
    "* Butterworth, 3rd order\n",
    "* Chebyshev, 3rd order\n",
    "\n",
    "# Simulation\n",
    "\n",
    "<figure>\n",
    "    <img src='./doc/pre-selector-filter_schematic.png' alt='missing' />\n",
    "    <figcaption>Schematic of the three filter topologies: OUT1=parallel LC, OUT3=top C-coupled resonator, OUT4=Conventional shunt first BPF</figcaption>\n",
    "</figure>\n",
    "\n",
    "<figure>\n",
    "    <img src='./doc/pre-selector-filter.png' alt='missing' />\n",
    "    <figcaption>Simulation results of the three filter topologies</figcaption>\n",
    "</figure>\n",
    "\n",
    "As expected, the simple parallel LC-filter has an attenuation of 40dB/decade.  The top C-coupled resonator filter has a very high attenuation for low frequencies, but it doesn't filter high frequencies very much.  The third order Chebyshev filter offers both for high and low frequencies good attenuation.  That filter will be used in the final design."
   ]
  },
  {
   "cell_type": "markdown",
   "metadata": {},
   "source": [
    "# Filter implementation\n",
    "## Air core inductor\n",
    "The ideal filter values don't exist, so real component values have to be used.  My first attempt was to use the WE_CAIR series of air-core inductors.  These have very high Q, but unfortunately they're also very large (10x6mm).\n",
    "\n",
    "Alternative air core inductors are the:\n",
    "* Abracon AIAC-4125C-R422J-T (422nH), which are 9.0x4.4mm.\n",
    "* Bourns AC1060R-R42G (422nH), 7.12 x 10.55mm\n",
    "\n",
    "Later I found out that the total NF of a receiver strongly depends on the noise figure of the first stages, especially the ones before the first amplifier.  The loss in the pre-select filter should therefore be as low as possible. \n",
    "\n",
    "## Ceramic core inductor\n",
    "1008 size inductors will be used instead.  They're much smaller (2.5x2.0mm).  Their pass band loss of 1.35dB is acceptable.\n",
    "\n",
    "The filter bandwidth is around 28MHz.  For a 20MHz bandwidth, a Butterworth yields a flat passband.  It seems that the center parallel LC-network determines the filter bandwidth.  The other components don't differ much between Chebychev and Butterworth.\n",
    "\n",
    "For the final implementation, the Chebychev filter will be used.\n",
    "\n",
    "<figure>\n",
    "    <img src='./doc/implementation.png' alt='missing' />\n",
    "    <figcaption>Simulation results of Chebychev ideal and real filters and comparison to Butterworth filter.</figcaption>\n",
    "</figure>"
   ]
  },
  {
   "cell_type": "code",
   "execution_count": 13,
   "metadata": {},
   "outputs": [
    {
     "name": "stdout",
     "output_type": "stream",
     "text": [
      "C = 1.7583156955840934e-10 F\n"
     ]
    }
   ],
   "source": [
    "# For doing some filter component calculations, especially to find suitable standard values\n",
    "import math\n",
    "f = 98e6\n",
    "\n",
    "ω = 2 * math.pi * f\n",
    "L = 15e-9\n",
    "C = 1 / (ω**2 * L) # F, intermediate value for the capacitance\n",
    "print(f\"C = {C} F\")"
   ]
  },
  {
   "cell_type": "markdown",
   "metadata": {},
   "source": [
    "# Measurements\n",
    "\n",
    "The small capacitors and inductors required will partly be present in the PCB already by means of stray inductance and capacitance.  The following procedure will be used to find the right values:\n",
    "* first solder the L and C of the first series resonator to the PCB.  Leave the shunt resonator open.  Replace the second resonator by 0ohm resistors.\n",
    "* Measure the S21 gain frequency response of the filter.  \n",
    "    * The center frequency should be around 98MHz.  It appears to be 87MHz instead.  \n",
    "    * So we have 8.6pF instead of 6.8pF.  So let's try 6.8pF - (8.6-6.8)pF = 6.8pF - 1.8pF = 5pF.  That brings us to 110MHz.\n",
    "    * Let's try 6.0pF.  That brings us to 98MHz.  Right on target.  0.665dB loss.  BW = 83MHz to 116MHz.\n",
    "* Now replace the 0ohm resistors by the  second resonator : 390nH and 6.0pF.  That finishes the series resonators.\n",
    "* Solder the shunt resonator to the PCB.  Measure the S11 return loss.  Probably you'll see an asymmetric response.  If the deepest dip is on the left side, the shunt capacitor is too small (or the inductor too large).\n",
    "    * The dip is now at 87MHz with the original 180pF capacitor.\n",
    "    * Let's try 150pF.  Too small.  We arrive at 110MHz.\n",
    "    * Let's try 160pF.  Perfect! Single dip at 98MHz.\n",
    "\n",
    "<figure>\n",
    "    <img src='./doc/S21_S11_finished_filter.png' alt='missing' />\n",
    "    <figcaption>NanoVNA S21 and S11 measurement of the preselect filter after tweaking</figcaption>\n",
    "</figure>\n",
    "<figure>\n",
    "    <img src='./doc/nanovna-h4_2025-05-18_12-00-23.png' alt='missing' />\n",
    "    <figcaption>NanoVNA S21 and S11 measurement of the preselect filter after tweaking : 50kHz to 900MHz frequency response</figcaption>\n",
    "</figure>"
   ]
  },
  {
   "cell_type": "code",
   "execution_count": 1,
   "metadata": {},
   "outputs": [
    {
     "name": "stdout",
     "output_type": "stream",
     "text": [
      "C = 8.58098516234724 pF\n"
     ]
    }
   ],
   "source": [
    "import math\n",
    "f_0 = 87e6\n",
    "ω = 2 * math.pi * f_0\n",
    "L = 390e-9 # 390 nH\n",
    "C = 1 / ω**2 / L # F, intermediate value for the capacitance\n",
    "print(f\"C = {C*1e12} pF\")\n"
   ]
  },
  {
   "cell_type": "markdown",
   "metadata": {},
   "source": [
    "# References\n",
    "* [Episode 1 - Transceivers and Filters - Part 1](https://www.youtube.com/watch?v=r_p7AHsSOdw&list=PL9Ox3wpnB0kqekAyz6blg4YdvoEMoJNJY&index=1&pp=iAQB)\n",
    "* [Episode 1 - Transceivers and Filters - Part 2](https://www.youtube.com/watch?v=He0-X6FCLMo&list=PL9Ox3wpnB0kqekAyz6blg4YdvoEMoJNJY&index=2&pp=iAQB)"
   ]
  },
  {
   "cell_type": "code",
   "execution_count": 15,
   "metadata": {},
   "outputs": [
    {
     "name": "stdout",
     "output_type": "stream",
     "text": [
      "S21 = (0.011365587944915804-0.10600194033876073j) = -19.444080931877522 dB\n"
     ]
    }
   ],
   "source": [
    "# [Radio Design 101 - Episode 1 - Transceivers and Filters - Part 2](https://youtu.be/He0-X6FCLMo?list=PL9Ox3wpnB0kqekAyz6blg4YdvoEMoJNJY&t=1097) improved\n",
    "# filter has a 24dB insertion loss at 200MHz.  LTSpice simulation and this calculation show that the expected insertion loss is 19.44dB.\n",
    "# Where does the difference come from?  \n",
    "\n",
    "import math\n",
    "f = 200e6\n",
    "C = 390e-12 # 380 pF, capacitance of the resonator\n",
    "L = 6.8e-9 # 6.7 nH, inductance of the resonator\n",
    "\n",
    "ω = 2 * math.pi * f\n",
    "\n",
    "zc = complex(0, -1 / (ω * C)) # imaginary unit\n",
    "zl = complex(0, ω * L) # ideal inductor\n",
    "\n",
    "Zp = zl * zc / (zl + zc) # parallel resonator\n",
    "Zl = 50 * Zp / (50 + Zp) # load impedance\n",
    "S21 = 2*Zl / (50 + Zl) # S21 parameter of the resonator\n",
    "S21dB = 20 * math.log10(abs(S21)) # S21 in dB\n",
    "print(f\"S21 = {S21} = {S21dB} dB\") # S21 parameter of the resonator"
   ]
  }
 ],
 "metadata": {
  "kernelspec": {
   "display_name": "Python 3",
   "language": "python",
   "name": "python3"
  },
  "language_info": {
   "codemirror_mode": {
    "name": "ipython",
    "version": 3
   },
   "file_extension": ".py",
   "mimetype": "text/x-python",
   "name": "python",
   "nbconvert_exporter": "python",
   "pygments_lexer": "ipython3",
   "version": "3.10.5"
  }
 },
 "nbformat": 4,
 "nbformat_minor": 2
}
