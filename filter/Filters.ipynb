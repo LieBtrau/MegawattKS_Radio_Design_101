{
 "cells": [
  {
   "cell_type": "markdown",
   "metadata": {},
   "source": [
    "# Pre-select Filter\n",
    "Three topologies will be discussed:\n",
    "1. Parallel LC Bandpass Filter : very low inductance, hard to control.\n",
    "2. Top-C Coupled resonator band pass filter\n",
    "3. Lumped LC-filter : Convential series first bandpass filter\n",
    "\n",
    "## Parallel LC Bandpass Filter"
   ]
  },
  {
   "cell_type": "code",
   "execution_count": 1,
   "metadata": {},
   "outputs": [
    {
     "name": "stdout",
     "output_type": "stream",
     "text": [
      "Q = 4.9\n",
      "Calculated L = 8.28586750790792e-09 H\n",
      "R_Lact = 0.15788516925733317 Ohm\n",
      "C = 2.6374735433761393e-10 F\n"
     ]
    }
   ],
   "source": [
    "import math\n",
    "f_0 = 98e6 # 98 MHz, center frequency of the FM broadcast band\n",
    "B = 20e6 # 20 MHz, bandwidth (88-108 MHz)\n",
    "Rin = 50 # 50 Ohm, input impedance (antenna impedance)\n",
    "Rout = 50 # 50 Ohm, output impedance (input impedance of the amplifier)\n",
    "\n",
    "R_L = Rin * Rout / (Rin + Rout) # l\n",
    "Q = f_0 / B # Q factor\n",
    "print(f\"Q = {Q}\")\n",
    "X_0 = R_L / Q\n",
    "ω = 2 * math.pi * f_0\n",
    "\n",
    "L = X_0 / ω # inductance\n",
    "print(f\"Calculated L = {L} H\")\n",
    "\n",
    "# Select the actual part for the inductor:\n",
    "L_act = 10e-9 # 10 nH, WE 744917110\n",
    "Q_Lact = 39 # Q factor of the actual inductor\n",
    "R_Lact = ω * L_act / Q_Lact # resistance of the actual inductor\n",
    "print(f\"R_Lact = {R_Lact} Ohm\")\n",
    "\n",
    "# Calculate the capacitance\n",
    "C = 1 / (L_act * ω**2) # capacitance \n",
    "print(f\"C = {C} F\")"
   ]
  },
  {
   "cell_type": "markdown",
   "metadata": {},
   "source": [
    "The 264pF capacitor for the pre-select filter will be constituated of a 47pF and a 220pF capacitor in parallel.  A 180pF+82pF is possible too, but these values are not available at Wurth Elektronik.\n",
    "\n",
    "* L = 10nH, WE 744917110\n",
    "* C1 = 47pF, WE 885012006055\n",
    "* C2 = 220pF, WE 885012006059\n",
    "\n",
    "The inductor value is very low.  Every piece of PCB-trace added will have a significant impact.\n",
    "\n",
    "## Top-C Coupled resonator band pass filter\n",
    "This topology is proposed by the lecturer in the video series.\n",
    "\n",
    "[Filter Design Part 11. How to Design Bandpass Filter BPF with Top-Coupled Capacitive Resonator.](https://www.youtube.com/watch?v=djknXHFLqsA) gives some details about when to use this topology.  \n",
    "* low side roll/off 18dB/octave\n",
    "* high side roll/off 6dB/octave.  \n",
    "\n",
    "This makes this filter more suitable for low-side injection in which the frequency of the local oscillator is lower than the frequency of the signal.  The unwanted image frequency is lower than the wanted frequency, so it gets more suppression."
   ]
  },
  {
   "cell_type": "code",
   "execution_count": 2,
   "metadata": {},
   "outputs": [
    {
     "name": "stdout",
     "output_type": "stream",
     "text": [
      "L_1 = 1.1717986205709938e-08 H\n",
      "C_1 = 2.2507907903927656e-10 F\n",
      "C_c = 3.248060063099905e-11 F\n"
     ]
    }
   ],
   "source": [
    "import math\n",
    "# Calculations from [Filter Design Part 11. How to Design Bandpass Filter BPF with Top-Coupled Capacitive Resonator.](https://www.youtube.com/watch?v=djknXHFLqsA)\n",
    "# The same calculations can also be found on [RF Circuit Design, Second Edition -- Christopher Bowick, Chapter 2, Coupling of resonant circuits]\n",
    "\n",
    "f_0 = 98e6 # 98 MHz, center frequency of the FM broadcast band\n",
    "B = 20e6 # 20 MHz, bandwidth (88-108 MHz)\n",
    "Rs = Rl = 50 # 50 Ohm, source and load impedance\n",
    "\n",
    "Q_t = f_0 / B # Q factor of the total filter\n",
    "Q_r = Q_t * math.sqrt(2) # Q factor of a single resonator\n",
    "X_L1 = Rs / Q_r # inductive reactance\n",
    "X_C1 = X_L1 # capacitive reactance\n",
    "L_1 = X_L1 / (2 * math.pi * f_0) # inductance of the resonator\n",
    "print(f\"L_1 = {L_1} H\")\n",
    "C_1 = 1 / (2 * math.pi * f_0 * X_C1) # capacitance of the resonator\n",
    "print(f\"C_1 = {C_1} F\")\n",
    "C_c = C_1 / Q_r # coupling capacitance\n",
    "print(f\"C_c = {C_c} F\")"
   ]
  },
  {
   "cell_type": "markdown",
   "metadata": {},
   "source": [
    "When simulating this filter in LTSpice, the resulting frequency response shows a center frequency considerably lower than 98MHz.  I have no idea why.\n",
    "\n",
    "Playing around a bit with the component values in LTSpice delivered a filter with the following parameters:\n",
    "* Center frequency: 98MHz\n",
    "* Bandwidth : 20MHz\n",
    "* L||C = 15nH||150pF\n",
    "* Coupling capacitor: 33pF"
   ]
  },
  {
   "cell_type": "code",
   "execution_count": 3,
   "metadata": {},
   "outputs": [
    {
     "name": "stdout",
     "output_type": "stream",
     "text": [
      "L = 1.0204081632653061e-07 H\n",
      "C12 = 3.729387590333861e-12 F\n",
      "CE = 1.0922294985640286e-11 F\n",
      "CT = 1.1195558149112024e-11 F\n"
     ]
    }
   ],
   "source": [
    "# Double-tuned circuits according to Experimental methods in RF design, Hayward, Campbell, Larkin, p.3.14\n",
    "\n",
    "F = 98e6 # 98 MHz, center frequency of the FM broadcast band\n",
    "B = 20e6 # 20 MHz, bandwidth (88-108 MHz)\n",
    "L = 10/F # H, suggested value for the inductance\n",
    "Qu = 60 # unloaded Q factor of the inductance\n",
    "k = 0.707 # coupling coefficient for Butterworth response\n",
    "q = 1.414 # Q factor for Butterworth response\n",
    "R0 = 50 # 50 Ohm, characteristic impedance\n",
    "\n",
    "import math\n",
    "print(f\"L = {L} H\")\n",
    "ω = 2 * math.pi * F\n",
    "C0 = 1 / (ω**2 * L) # F, intermediate value for the capacitance\n",
    "C12 = C0 * k * B / F # F, capacitance of the coupling capacitor\n",
    "print(f\"C12 = {C12} F\")\n",
    "QE = q * F * Qu / ( B * Qu - q * F ) # effective Q factor\n",
    "CE = 1 / (ω * math.sqrt(R0 * QE * ω * L - R0**2)) # F, capacitor between the source/load and the resonator\n",
    "print(f\"CE = {CE} F\")\n",
    "CT = C0 - CE - C12 # F, capacitance of the resonator\n",
    "print(f\"CT = {CT} F\")"
   ]
  },
  {
   "cell_type": "markdown",
   "metadata": {},
   "source": [
    "This topology has some disadvantages:\n",
    "* Requires 7 components\n",
    "* Limited roll-off on the high side\n",
    "* Small capacitor values (can be worked around by putting capacitors in parallel, thus using even more components)\n",
    "\n",
    "The advantage however is that the filter can be tuned by changing the resonator capacitors, as discussed in [Secrets of RF Circuit Design, §MOSFET preselector circuits]()\n",
    "\n",
    "[Designing Narrow-Bandwidth Ladder Filters by Wes Hayward, w7zoi, April 7, 2019](https://w7zoi.net/filters/genfil.pdf) explains well how to design this filter.\n",
    "\n",
    "## Conventional, series first band pass filter\n",
    "* Butterworth, 3rd order\n",
    "* Chebyshev, 3rd order\n",
    "\n",
    "### Simulation\n",
    "\n",
    "<figure>\n",
    "    <img src='./doc/pre-selector-filter_schematic.png' alt='missing' />\n",
    "    <figcaption>Schematic of the three filter topologies: OUT1=parallel LC, OUT3=top C-coupled resonator, OUT4=Conventional shunt first BPF</figcaption>\n",
    "</figure>\n",
    "\n",
    "<figure>\n",
    "    <img src='./doc/pre-selector-filter.png' alt='missing' />\n",
    "    <figcaption>Simulation results of the three filter topologies</figcaption>\n",
    "</figure>\n",
    "\n",
    "### Simulation results of the parallel LC bandpass filter\n",
    "* Center frequency: 95.5MHz\n",
    "* Insertion loss: 1.4dB\n",
    "* Return loss : > 27dB\n",
    "* Lower 3dB frequency: 83.4MHz\n",
    "* Upper 3dB frequency: 108.9MHz"
   ]
  },
  {
   "cell_type": "markdown",
   "metadata": {},
   "source": [
    "# Image Filter"
   ]
  },
  {
   "cell_type": "code",
   "execution_count": 4,
   "metadata": {},
   "outputs": [
    {
     "name": "stdout",
     "output_type": "stream",
     "text": [
      "For Ic = 1mA\n",
      "\tCalculated L = 1.09e-06 H\n",
      "\tCalculated C = 2.41e-12 F\n",
      "\tCalculated B = 2.00e+07 Hz\n",
      "For Ic = 2mA\n",
      "\tCalculated L = 5.30e-07 H\n",
      "\tCalculated C = 4.97e-12 F\n",
      "\tCalculated B = 2.00e+07 Hz\n",
      "For Ic = 3mA\n",
      "\tCalculated L = 3.65e-07 H\n",
      "\tCalculated C = 7.23e-12 F\n",
      "\tCalculated B = 2.00e+07 Hz\n"
     ]
    }
   ],
   "source": [
    "def parallel_RLC(Rp, B, f_0):\n",
    "    ω = 2 * math.pi * f_0\n",
    "    Q = f_0 / B\n",
    "    X_0 = Rp / Q\n",
    "    L = X_0 / ω\n",
    "    print(\"\\tCalculated L = {:.2e} H\".format(L))\n",
    "    C = 1 / (ω * X_0)\n",
    "    print(\"\\tCalculated C = {:.2e} F\".format(C))\n",
    "    B = f_0 / Q\n",
    "    print(\"\\tCalculated B = {:.2e} Hz\".format(B))\n",
    "    return L, C, B\n",
    "\n",
    "f = 98e6 # 98 MHz, center frequency of the FM broadcast band\n",
    "B = 20e6 # 20 MHz, bandwidth (88-108 MHz)\n",
    "print(\"For Ic = 1mA\")\n",
    "L, C, B = parallel_RLC(3.3e3, B, f)\n",
    "print(\"For Ic = 2mA\")\n",
    "L, C, B = parallel_RLC(1.6e3, B, f)\n",
    "print(\"For Ic = 3mA\")\n",
    "L, C, B = parallel_RLC(1.1e3, B, f)"
   ]
  },
  {
   "cell_type": "markdown",
   "metadata": {},
   "source": [
    "Be aware that these are not the final values for the inductors yet.  The impedance matching network for matching to the 50ohm output will add an inductor in parallel, which will reduce the inductance of the collector filter.\n",
    "\n",
    "# References\n",
    "* [Episode 1 - Transceivers and Filters - Part 1](https://www.youtube.com/watch?v=r_p7AHsSOdw&list=PL9Ox3wpnB0kqekAyz6blg4YdvoEMoJNJY&index=1&pp=iAQB)\n",
    "* [Episode 1 - Transceivers and Filters - Part 2](https://www.youtube.com/watch?v=He0-X6FCLMo&list=PL9Ox3wpnB0kqekAyz6blg4YdvoEMoJNJY&index=2&pp=iAQB)\n"
   ]
  }
 ],
 "metadata": {
  "kernelspec": {
   "display_name": "Python 3",
   "language": "python",
   "name": "python3"
  },
  "language_info": {
   "codemirror_mode": {
    "name": "ipython",
    "version": 3
   },
   "file_extension": ".py",
   "mimetype": "text/x-python",
   "name": "python",
   "nbconvert_exporter": "python",
   "pygments_lexer": "ipython3",
   "version": "3.10.5"
  }
 },
 "nbformat": 4,
 "nbformat_minor": 2
}
