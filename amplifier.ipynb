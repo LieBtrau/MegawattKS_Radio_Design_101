{
 "cells": [
  {
   "cell_type": "markdown",
   "metadata": {},
   "source": [
    "# Common Base Amplifier\n",
    "* Low input impedance.  Matching network converts to a lower voltage, which is a drawback compared to the common emitter or cascode amplifier.\n",
    "* high output impedance, so can be loaded with a parallel resonant circuit.\n",
    "* No Miller effect\n",
    "\n",
    "For the calculations, the \"Analysis and Design of Analog Integrated Circuits, Fourth Edition\" by Gray and Meyer is used.\n",
    "\n",
    "# Requirements\n"
   ]
  },
  {
   "cell_type": "code",
   "execution_count": 11,
   "metadata": {},
   "outputs": [],
   "source": [
    "# Requirement\n",
    "G_T_dB = 15 # Transducer gain in dB\n",
    "Vcc = 7 # Supply voltage\n",
    "V_T = 26e-3 # Thermal voltage"
   ]
  },
  {
   "cell_type": "markdown",
   "metadata": {},
   "source": [
    "The power gain for a CB-amplifier is given by: g_m * R_C / 4.  Moreover, I_c * R_C must remain less than V_CC.  This limits the gain for a resistive load.  For a parallel RLC resonant load, the resistor is DC-short circuited by the inductor and higher gain can be achieved.\n",
    "\n",
    "# Transistors\n",
    "* [MMBT5179, CMUT5179 (Mouser)]()\n",
    "* BFU550\n",
    "\n",
    "# 1. Bias circuit\n",
    "## Stability\n",
    "[Self Bias or Potential Divider Bias Circuit](https://www.eeeguide.com/self-bias-or-potential-divider-bias-circuit/)\n",
    "\n",
    "MegaWattKS : set V_{E} in the range of 0.5V to 1V\n",
    "Art of Electronics, §2.13 : set R_{E} as 1/10 of R_{C}\n",
    "\n",
    "## DC Analysis"
   ]
  },
  {
   "cell_type": "code",
   "execution_count": 12,
   "metadata": {},
   "outputs": [
    {
     "name": "stdout",
     "output_type": "stream",
     "text": [
      "Biasing for Ic = 1.00 mA\n",
      "\tEmitter resistor: 1000.00 ohm\n",
      "\tBottom bias resistor: 18000.00 ohm\n",
      "\tTop bias resistor: 47272.73 ohm\n",
      "\tStability factor: 12.43\n",
      "\tAcceptable biasing\n",
      "Biasing for Ic = 2.00 mA\n",
      "\tEmitter resistor: 500.00 ohm\n",
      "\tBottom bias resistor: 9000.00 ohm\n",
      "\tTop bias resistor: 23636.36 ohm\n",
      "\tStability factor: 12.43\n",
      "\tAcceptable biasing\n",
      "Biasing for Ic = 3.00 mA\n",
      "\tEmitter resistor: 333.33 ohm\n",
      "\tBottom bias resistor: 6000.00 ohm\n",
      "\tTop bias resistor: 15757.58 ohm\n",
      "\tStability factor: 12.43\n",
      "\tAcceptable biasing\n"
     ]
    }
   ],
   "source": [
    "# Biasing\n",
    "\n",
    "def calc_Rc(Vcc, Ic, G_T_dB):\n",
    "    G_T = 10**(G_T_dB/10)\n",
    "    Ic_Rc = V_T * 4 * G_T\n",
    "    if Ic_Rc > Vcc:\n",
    "        print(\"Ic * Rc > Vcc, impossible with resistive load.  Use a tuned parallel LC circuit as the load.\")\n",
    "    Rc = Ic_Rc / Ic # Collector resistor\n",
    "    return Rc\n",
    "\n",
    "def calc_bias(Ic, Vbe, V_E, hfe):\n",
    "    # Calculate biasing resistors\n",
    "    Re = V_E / Ic # Emitter resistor\n",
    "    print(\"\\tEmitter resistor: {:.2f} ohm\".format(Re))\n",
    "    Ib = Ic / hfe # Base current\n",
    "    V_R2 = Vbe + V_E # Voltage over R2\n",
    "    I_R2 = 10 * Ib # Current through R2 for stable biasing\n",
    "    R2 = V_R2 / I_R2 # Base resistor\n",
    "    print(\"\\tBottom bias resistor: {:.2f} ohm\".format(R2))\n",
    "    V_R1 = Vcc - V_R2 # Voltage over R1\n",
    "    I_R1 = I_R2 + Ib # Current through R1\n",
    "    R1 = V_R1 / I_R1 # Top bias resistor\n",
    "    print(\"\\tTop bias resistor: {:.2f} ohm\".format(R1))\n",
    "    return R1, R2, Re\n",
    "\n",
    "def stability_check(R1, R2, Re, hfe):\n",
    "    R_th = R1 * R2 / (R1 + R2) # Thevenin resistance\n",
    "    S = (hfe + 1) * (Re + R_th) / ((hfe+1) * Re + R_th) # Stability factor\n",
    "    print(\"\\tStability factor: {:.2f}\".format(S))\n",
    "    if S < 10:\n",
    "        print(\"\\tGood biasing\")\n",
    "    elif S < 20:\n",
    "        print(\"\\tAcceptable biasing\")\n",
    "    else:\n",
    "        print(\"\\tUnstable biasing\")\n",
    "\n",
    "Vbe = 0.8 # Base-emitter voltage\n",
    "V_E = 1 # Assumed voltage over emitter resistor\n",
    "hfe = 100 # Current gain\n",
    "Ic = [1e-3, 2e-3, 3e-3] # Collector current\n",
    "\n",
    "for i in Ic:\n",
    "    print(\"Biasing for Ic = {:.2f} mA\".format(i*1e3))\n",
    "    [R1, R2, Re] = calc_bias(i, Vbe, V_E, hfe)\n",
    "    stability_check(R1, R2, Re, hfe)\n",
    "\n",
    "# Actual values for the resistors\n",
    "\n",
    "# Ic = 1 mA\n",
    "# Re = 1e3\n",
    "# R1 = 47e3\n",
    "# R2 = 18e3\n",
    "\n",
    "# Ic = 2 mA\n",
    "# Re = 510\n",
    "# R1 = 24e3\n",
    "# R2 = 10e3\n",
    "\n",
    "# Ic = 3 mA\n",
    "# Re = 300\n",
    "# R1 = 15e3\n",
    "# R2 = 5.6e3\n",
    "\n",
    "# Calculate helper variables\n",
    "## Transconductance (gm)\n",
    "gm = [x / V_T  for x in Ic] # Transconductance\n"
   ]
  },
  {
   "cell_type": "markdown",
   "metadata": {},
   "source": [
    "# 2. Output resistance"
   ]
  },
  {
   "cell_type": "code",
   "execution_count": 13,
   "metadata": {},
   "outputs": [
    {
     "name": "stdout",
     "output_type": "stream",
     "text": [
      "Output resistance for Ic = 1.00 mA: 3184.05 ohm\n",
      "Actual output resistance for Ic = 1.00 mA: 3194.58 ohm\n",
      "Output resistance for Ic = 2.00 mA: 1592.03 ohm\n",
      "Actual output resistance for Ic = 2.00 mA: 1550.39 ohm\n",
      "Output resistance for Ic = 3.00 mA: 1061.35 ohm\n",
      "Actual output resistance for Ic = 3.00 mA: 1064.86 ohm\n"
     ]
    }
   ],
   "source": [
    "VA = 100 # Early voltage\n",
    "ro = [VA / x_Ic for x_Ic in Ic] # (1.91, 1.13 & 1.114)\n",
    "Rc = [calc_Rc(Vcc, x, G_T_dB) for x in Ic] # Collector resistor\n",
    "Rc_actual = [3.3e3, 1.6e3, 1.1e3] # Actual collector resistor\n",
    "\n",
    "# Output resistance Rout = Rc || ro\n",
    "Rout = [x_ro * y_Rc / (x_ro + y_Rc) for x_ro, y_Rc in zip(ro, Rc)] # (3.32)\n",
    "Rout_actual = [x_ro * y_Rc / (x_ro + y_Rc) for x_ro, y_Rc in zip(ro, Rc_actual)] # (3.32)\n",
    "\n",
    "for i, x in enumerate(Ic):\n",
    "    print(\"Output resistance for Ic = {:.2f} mA: {:.2f} ohm\".format(x*1e3, Rout[i]))\n",
    "    print(\"Actual output resistance for Ic = {:.2f} mA: {:.2f} ohm\".format(x*1e3, Rout_actual[i]))"
   ]
  },
  {
   "cell_type": "markdown",
   "metadata": {},
   "source": [
    "# 3. Unloaded Voltage Gain\n",
    "<figure>\n",
    "    <img src=\"./doc/simulation/2_Av_no_load.png\" width=\"100%\">\n",
    "    <figcaption>Common Base Amplifier with no load for bias settings of 1mA, 2mA and 3mA.</figcaption>\n",
    "</figure>"
   ]
  },
  {
   "cell_type": "code",
   "execution_count": 14,
   "metadata": {},
   "outputs": [
    {
     "name": "stdout",
     "output_type": "stream",
     "text": [
      "Unloaded voltage gain for Ic = 1.00 mA: 41.76 dB\n",
      "Unloaded voltage gain for Ic = 2.00 mA: 41.76 dB\n",
      "Unloaded voltage gain for Ic = 3.00 mA: 41.76 dB\n"
     ]
    }
   ],
   "source": [
    "# Unloaded voltage gain Av_no_load = gm * Rout\n",
    "import math\n",
    "Av_no_load = [x_gm * y_Rout for x_gm, y_Rout in zip(gm, Rout)] # Voltage gain, unloaded\n",
    "Av_no_load_dB = [20 * math.log10(x_Av_no_load) for x_Av_no_load in Av_no_load]\n",
    "\n",
    "for i, x in enumerate(Ic):\n",
    "    print(\"Unloaded voltage gain for Ic = {:.2f} mA: {:.2f} dB\".format(x*1e3, Av_no_load_dB[i]))"
   ]
  },
  {
   "cell_type": "markdown",
   "metadata": {},
   "source": [
    "# 4. Input impedance\n",
    "## Input resistance"
   ]
  },
  {
   "cell_type": "code",
   "execution_count": 15,
   "metadata": {},
   "outputs": [
    {
     "name": "stdout",
     "output_type": "stream",
     "text": [
      "For Ic = 1.00 mA\n",
      "\tTransconductance: 0.04 S\n",
      "\tInput resistance: 26.00 ohm\n",
      "For Ic = 2.00 mA\n",
      "\tTransconductance: 0.08 S\n",
      "\tInput resistance: 13.00 ohm\n",
      "For Ic = 3.00 mA\n",
      "\tTransconductance: 0.12 S\n",
      "\tInput resistance: 8.67 ohm\n"
     ]
    }
   ],
   "source": [
    "Rin = [1 / x_gm for x_gm in gm] # Input resistance\n",
    "for i in range(len(Ic)):\n",
    "    print(\"For Ic = {:.2f} mA\".format(Ic[i]*1e3))\n",
    "    print(\"\\tTransconductance: {:.2f} S\".format(gm[i]))\n",
    "    print(\"\\tInput resistance: {:.2f} ohm\".format(Rin[i]))"
   ]
  },
  {
   "cell_type": "markdown",
   "metadata": {},
   "source": [
    "## Input capacitance"
   ]
  },
  {
   "cell_type": "code",
   "execution_count": 16,
   "metadata": {},
   "outputs": [
    {
     "name": "stdout",
     "output_type": "stream",
     "text": [
      "For Ic = 1.00 mA\n",
      "\tInput capacitance: 6.65e-12 F\n",
      "\tCutoff frequency due to capacitance at the input: 9.20e+08 Hz\n",
      "For Ic = 2.00 mA\n",
      "\tInput capacitance: 1.43e-11 F\n",
      "\tCutoff frequency due to capacitance at the input: 8.56e+08 Hz\n",
      "For Ic = 3.00 mA\n",
      "\tInput capacitance: 2.20e-11 F\n",
      "\tCutoff frequency due to capacitance at the input: 8.36e+08 Hz\n"
     ]
    }
   ],
   "source": [
    "import math\n",
    "\n",
    "Cµ = 1e-12 # Ccb\n",
    "fT = 800e6 # Transition frequency\n",
    "\n",
    "# Frequency pole due to capacitance on the input\n",
    "Cπ = [x_gm / (2 * math.pi * fT) - Cµ for x_gm in gm] # [Finding Cbe](https://youtu.be/m9X0mfg_8lQ?t=3378)\n",
    "for i in range(len(Ic)):\n",
    "    print(\"For Ic = {:.2f} mA\".format(Ic[i]*1e3))\n",
    "    print(\"\\tInput capacitance: {:.2e} F\".format(Cπ[i]))\n",
    "    f_p1 = gm[i] / (2 * math.pi * Cπ[i]) #\n",
    "    print(\"\\tCutoff frequency due to capacitance at the input: {:.2e} Hz\".format(f_p1))"
   ]
  },
  {
   "cell_type": "markdown",
   "metadata": {},
   "source": [
    "## Simulation\n",
    "<figure>\n",
    "    <img src=\"./doc/simulation/3_input_impedance.png\" width=\"100%\">\n",
    "    <figcaption>Input impedance (shown as voltage over a 1A current source) for bias settings of 1mA, 2mA and 3mA.</figcaption>\n",
    "</figure>"
   ]
  },
  {
   "cell_type": "markdown",
   "metadata": {},
   "source": [
    "# 5. Input Matching network\n",
    "## Calculation"
   ]
  },
  {
   "cell_type": "code",
   "execution_count": 17,
   "metadata": {},
   "outputs": [
    {
     "name": "stdout",
     "output_type": "stream",
     "text": [
      "For Ic = 1.00 mA\n",
      "\tLoad resistance: 50.00 ohm\n",
      "\tSource resistance: 26.00 ohm\n",
      "\tQ: 0.96\n",
      "\tInductance: 8.45e-08 H\n",
      "\tCapacitance: 6.50e-11 F\n",
      "For Ic = 2.00 mA\n",
      "\tLoad resistance: 50.00 ohm\n",
      "\tSource resistance: 13.00 ohm\n",
      "\tQ: 1.69\n",
      "\tInductance: 4.81e-08 H\n",
      "\tCapacitance: 7.40e-11 F\n",
      "For Ic = 3.00 mA\n",
      "\tLoad resistance: 50.00 ohm\n",
      "\tSource resistance: 8.67 ohm\n",
      "\tQ: 2.18\n",
      "\tInductance: 3.72e-08 H\n",
      "\tCapacitance: 8.58e-11 F\n"
     ]
    }
   ],
   "source": [
    "def calc_L_match(f, Rp, Rs):\n",
    "    # f : frequency where the matching is done\n",
    "    # Rp : load resistance on the parallel side\n",
    "    # Rs : source resistance on the series side\n",
    "    # Rp will always be higher than Rs\n",
    "    print(\"\\tLoad resistance: {:.2f} ohm\".format(Rp))\n",
    "    print(\"\\tSource resistance: {:.2f} ohm\".format(Rs))\n",
    "    ω = 2 * math.pi * f\n",
    "    Q = math.sqrt(Rp / Rs - 1)\n",
    "    print(\"\\tQ: {:.2f}\".format(Q))\n",
    "    Xs = Q * Rs # series reactance\n",
    "    Xp = Rp / Q # parallel reactance\n",
    "    C = 1 / (Xs * ω) # we choose C to be the series reactance\n",
    "    L = Xp / ω # we choose L to be the parallel reactance\n",
    "    return L, C\n",
    "\n",
    "f = 98e6 # Frequency in the middle of the FM band\n",
    "\n",
    "for i in range(len(Ic)):\n",
    "    print(\"For Ic = {:.2f} mA\".format(Ic[i]*1e3))\n",
    "    L, C = calc_L_match(f, 50, Rin[i])\n",
    "    print(\"\\tInductance: {:.2e} H\".format(L))\n",
    "    print(\"\\tCapacitance: {:.2e} F\".format(C))"
   ]
  },
  {
   "cell_type": "markdown",
   "metadata": {},
   "source": [
    "## Simulation\n",
    "<figure>\n",
    "    <img src=\"./doc/simulation/4_input_match.png\" width=\"100%\">\n",
    "    <figcaption>Input matching network for bias settings of 1mA, 2mA and 3mA.</figcaption>\n",
    "</figure>\n",
    "\n",
    "Remark that the simulated values differ quite a bit from the calculated values.  "
   ]
  },
  {
   "cell_type": "markdown",
   "metadata": {},
   "source": [
    "# 6. Output impedance\n",
    "## Output capacitance"
   ]
  },
  {
   "cell_type": "code",
   "execution_count": 18,
   "metadata": {},
   "outputs": [
    {
     "name": "stdout",
     "output_type": "stream",
     "text": [
      "For Ic = 1.00 mA\n",
      "Cutoff frequency due to capacitance at the output: 49.99 MHz\n",
      "For Ic = 2.00 mA\n",
      "Cutoff frequency due to capacitance at the output: 99.97 MHz\n",
      "For Ic = 3.00 mA\n",
      "Cutoff frequency due to capacitance at the output: 149.96 MHz\n"
     ]
    }
   ],
   "source": [
    "# Frequency pole due to capacitance on the output\n",
    "\n",
    "for i in range(len(Ic)):\n",
    "    print(\"For Ic = {:.2f} mA\".format(Ic[i]*1e3))\n",
    "    f_p2 = 1 / (2* math.pi * Cµ * Rout[i]) # 7.2.4.1 : Common-base amplifier frequency response, p. 514\n",
    "    print(\"Cutoff frequency due to capacitance at the output: {:.2f} MHz\".format(f_p2 / 1e6))"
   ]
  },
  {
   "cell_type": "markdown",
   "metadata": {},
   "source": [
    "## Simulation\n",
    "<figure>\n",
    "    <img src=\"./doc/simulation/5_output_impedance.png\" width=\"1000\"/>\n",
    "    <figcaption>Output impedance of the amplifier and the effect of the output capacitance, causing roll-off at high frequencies.</figcaption>\n",
    "</figure>"
   ]
  },
  {
   "cell_type": "markdown",
   "metadata": {},
   "source": [
    "# 7. Image filter\n",
    "## Calculation\n",
    "see [Image filter](Filters.ipynb)\n",
    "\n",
    "## Simulation\n",
    "<figure>\n",
    "    <img src=\"./doc/simulation/6_image_filter.png\" width=\"100%\">\n",
    "    <figcaption>Image filter for bias settings of 1mA, 2mA and 3mA.</figcaption>\n",
    "</figure>\n",
    "\n",
    "It takes a bit of tuning to get the Q factor right.  Increasing the inductance value, lowers the Q factor.  The parallel capacitor then needs to be tuned to get the correct resonance frequency.  "
   ]
  },
  {
   "cell_type": "markdown",
   "metadata": {},
   "source": [
    "# 8. Output Matching network\n",
    "## Calculation"
   ]
  },
  {
   "cell_type": "code",
   "execution_count": 19,
   "metadata": {},
   "outputs": [
    {
     "name": "stdout",
     "output_type": "stream",
     "text": [
      "For Ic = 1.00 mA\n",
      "\tLoad resistance: 3184.05 ohm\n",
      "\tSource resistance: 50.00 ohm\n",
      "\tQ: 7.92\n",
      "\tInductance: 6.53e-07 H\n",
      "\tCapacitance: 4.10e-12 F\n",
      "For Ic = 2.00 mA\n",
      "\tLoad resistance: 1592.03 ohm\n",
      "\tSource resistance: 50.00 ohm\n",
      "\tQ: 5.55\n",
      "\tInductance: 4.66e-07 H\n",
      "\tCapacitance: 5.85e-12 F\n",
      "For Ic = 3.00 mA\n",
      "\tLoad resistance: 1061.35 ohm\n",
      "\tSource resistance: 50.00 ohm\n",
      "\tQ: 4.50\n",
      "\tInductance: 3.83e-07 H\n",
      "\tCapacitance: 7.22e-12 F\n"
     ]
    }
   ],
   "source": [
    "for i in range(len(Ic)):\n",
    "    print(\"For Ic = {:.2f} mA\".format(Ic[i]*1e3))\n",
    "    L, C = calc_L_match(f, Rout[i], 50)\n",
    "    print(\"\\tInductance: {:.2e} H\".format(L))\n",
    "    print(\"\\tCapacitance: {:.2e} F\".format(C))"
   ]
  },
  {
   "cell_type": "markdown",
   "metadata": {},
   "source": [
    "The Q-factor should be less than 6, otherwise the bandwidth will be too narrow for the whole FM band.\n",
    "\n",
    "## Simulation\n",
    "<figure>\n",
    "    <img src=\"./doc/simulation/7_output_match.png\" width=\"100%\">\n",
    "    <figcaption>Output matching network for bias settings of 1mA, 2mA and 3mA.</figcaption>\n",
    "</figure>"
   ]
  },
  {
   "cell_type": "markdown",
   "metadata": {},
   "source": [
    "# Power gain\n",
    "## Derivation\n",
    "<img src=\"./doc/simulation/two-port-network.png\" width=\"600\"/>\n",
    "\n",
    "The unloaded voltage gain of the amplifier without info over input and output impedance is not meaningful.  To take these into account, power gain calculation is more useful.  \n",
    "\n",
    "The voltage gain of the terminated amplifier is the voltage on R_L divided by the voltage on R_in.  Matching networks will be inserted at the input and at the output to match the input and output impedance to 50 Ohm.  \n",
    "The total gain of the amplifier, including the matching networks is calculated below.\n",
    "\n",
    "$$ G_{T}=A_{Vloaded}^{2}*\\frac{R_{in}}{R_{out}} $$\n",
    "when the input and output of the amplifier is matched to its load:\n",
    "$$ A_{Vloaded} = \\frac{A_{Vunloaded}}{2} $$\n",
    "In case of a common base amplifier\n",
    "$$ A_{Vunloaded} = -g_{m}*R_{C} $$\n",
    "$$ Rin = \\frac{1}{g_{m}} $$\n",
    "$$ Rout = R_{C} $$\n",
    "Putting it all together, the transducer power gain for a common base amplifier is given by:\n",
    "$$ G_{T} = \\frac{g_{m}*R_{C}}{4} $$\n",
    "\n",
    "## Calculation"
   ]
  },
  {
   "cell_type": "code",
   "execution_count": 20,
   "metadata": {},
   "outputs": [
    {
     "name": "stdout",
     "output_type": "stream",
     "text": [
      "For Ic = 1.00 mA\n",
      "\tTransducer gain (calculation method 1): 14.86dB\n",
      "\tTransducer gain (calculation method 2): 14.86dB\n",
      "For Ic = 2.00 mA\n",
      "\tTransducer gain (calculation method 1): 14.86dB\n",
      "\tTransducer gain (calculation method 2): 14.86dB\n",
      "For Ic = 3.00 mA\n",
      "\tTransducer gain (calculation method 1): 14.86dB\n",
      "\tTransducer gain (calculation method 2): 14.86dB\n"
     ]
    }
   ],
   "source": [
    "Av_loaded = [x / 2 for x in Av_no_load]   # if Rout = R_L\n",
    "Gt_calc1 = [(x_Av_loaded**2) * y_Rin / z_Rout for x_Av_loaded, y_Rin, z_Rout in zip(Av_loaded, Rin, Rout)] # Transducer gain\n",
    "Gt_calc2 = [x_gm * y_Rout / 4 for x_gm, y_Rout in zip(gm, Rout)] # Transducer gain\n",
    "for i in range(len(Ic)):\n",
    "    print(\"For Ic = {:.2f} mA\".format(Ic[i]*1e3))\n",
    "    print(\"\\tTransducer gain (calculation method 1): {:.2f}dB\".format(10 * math.log10(Gt_calc1[i]))) \n",
    "    print(\"\\tTransducer gain (calculation method 2): {:.2f}dB\".format(10 * math.log10(Gt_calc2[i])))\n"
   ]
  },
  {
   "cell_type": "markdown",
   "metadata": {},
   "source": [
    "## Simulation\n",
    "<figure>\n",
    "    <img src=\"./doc/simulation/8_wideband_gain.png\" width=\"100%\">\n",
    "    <figcaption>Wideband gain of the completed amplifiers.</figcaption>\n",
    "</figure>\n",
    "\n",
    "As can be seen, the frequencies higher than our target frequency are not attenuated.  This makes this filter less desirable for high-side injection.  We will have to tune our local oscillator to a lower frequency than the target frequency, i.e. use low-side injection.\n",
    "It might be better to change the input matching network and use the low-pass version instead.  We already have a 10nF coupling capacitor at the input."
   ]
  },
  {
   "cell_type": "markdown",
   "metadata": {},
   "source": [
    "[Varicap tricks](https://www.pi4raz.nl/index.php/2008/12/21/varicaps-tips-tricks/)\n",
    "\n",
    "# IP3 : Third Order Intercept Point"
   ]
  },
  {
   "cell_type": "markdown",
   "metadata": {},
   "source": [
    "# Selectivity\n",
    "\n",
    "# References\n",
    "* [MegawattKS : Radio Design 101 - Episode 2 - Impedance Matching - Part 2](https://youtu.be/ZWBem8GTzNs)\n",
    "* [MegawattKS : Radio Design 101 - Episode 3 - RF Amplifiers](https://youtu.be/UUlqW-vSq9M)"
   ]
  }
 ],
 "metadata": {
  "kernelspec": {
   "display_name": "Python 3",
   "language": "python",
   "name": "python3"
  },
  "language_info": {
   "codemirror_mode": {
    "name": "ipython",
    "version": 3
   },
   "file_extension": ".py",
   "mimetype": "text/x-python",
   "name": "python",
   "nbconvert_exporter": "python",
   "pygments_lexer": "ipython3",
   "version": "3.10.5"
  }
 },
 "nbformat": 4,
 "nbformat_minor": 2
}
