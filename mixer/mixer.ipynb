{
 "cells": [
  {
   "cell_type": "markdown",
   "id": "a340dafa",
   "metadata": {},
   "source": [
    "# Diode ring mixer\n",
    "Minicircuits : [ADE-1+, Level 7, SMT Double Balanced Mixer, RF/LO Freq 0.5 - 500 MHz](https://www.minicircuits.com/WebStore/dashboard.html?model=ADE-1%2B)\n",
    "\n",
    "Explanation of the operation can be found in : \n",
    "* [#260: RF Diode Mixer LO Drive Level & Conversion Loss | 1dB Compression | Distortion](https://www.youtube.com/watch?v=GvadQpkZ8l0)\n",
    "* [#167: How a Diode Ring Mixer works | Mixer operation theory and measurement](https://www.youtube.com/watch?v=junuEwmQVQ8)\n",
    "\n",
    "The operation of a diode ring mixer is also explained in [Analog Devices : Activity: Diode Ring Modulator - ADALM2000](https://wiki.analog.com/university/courses/electronics/electronics_lab_diode_ring_modulator).  Mind that in this explanation, the LO-port is the port that is connected to the diode ring.  This only works if the LO-signal is symmetrical around 0V, which is not the case for the SI5351.  \n",
    "\n",
    "Because we'll be using an SI5351 which doesn't generate a negative voltage, we will connect the SI5351 to the LO-port of the mixer, as shown in the ADE-1+ datasheet.\n",
    "\n",
    "## Discrete implementation\n",
    "Using machine wound inductors and diode arrays, a discrete implementation of a diode ring mixer can be made.  The following components are used:\n",
    "\n",
    "### Diode selection\n",
    "  * 4 diodes in a SOT-363 package : for better matching\n",
    "  * avoiding schottky diodes because of their low forward voltage drop, which would result in a lower allowed signal level (BAS40, BAS70)\n",
    "  * BAV99 is quite fast, with a reverse recovery time of 4ns (Schottky BAS7004SH6 is apparently only 100ns).  \n",
    "  * 1N4148 has comparable speed, to the BAV99\n",
    "  * Fastest common diodes are the SD101 (1ns reverse recovery time).  These are single diodes (SOD123 or SOD323 package), so 4 of them are needed.\n",
    "\n",
    "### Ethernet transformer\n",
    "* 2x ALT4532P-181-T05G ethernet transformer : work down to 100kHz (1dB loss compared to 1MHz)\n",
    "\n",
    "I ran simulations with 1N5819 because I didn't know any better back then.  These diodes are too slow for this application.\n",
    "\n",
    "### References\n",
    "* [Homebrew mixer](https://pa3fwm.nl/technotes/tn33a-ethernet-hardware.html) : error in antenna connection\n",
    "* [Jenny List's up converter](https://github.com/JennyList/LanguageSpy/blob/master/Hardware/one-inch-HF-to-VHF-converter/upconverter%20schematic.png)\n",
    "\n",
    "## Driving the LO port\n",
    "* [Reducing IMD in high-level mixers](https://www.robkalmeijer.nl/techniek/electronica/radiotechniek/hambladen/qex/2001/05_06/page45/index.html)\n",
    "* LO drive should be as symmetrical as possible (50% duty cycle). A square wave is ideal.\n",
    "* A 50% duty cycle square wave has no even harmonics, only odd harmonics.\n",
    "* A 49% duty cycle square wave has a second harmonic at -16dBc.\n",
    "* Experiment with the drive level of the SI5351 to find the best performance.\n",
    "* Second harmonic can be removed by [using a very large source termination resistor (e.g. 470 ohm)](https://www.youtube.com/watch?v=epkQQfynh7A), but this will make for a nearly sinosoidal waveform.\n",
    "* A simple low-pass filter to filter it out can not be used, because we need the 3rd, 5th, and 7th harmonics to drive the mixer.\n",
    "* An alternative is to use a source termination resistor to provide a nice clean waveform without over/undershoot.\n",
    "* The ADE-1+ mixer requires a minimum of 7dBm of LO drive, specified into a 50 ohm load.\n",
    "* Will the waveform be closer to 50% duty cycle if the clock signal is doubled and a flip-flop is used to divide the signal?  A flip-flop has some delay as well."
   ]
  },
  {
   "cell_type": "code",
   "execution_count": 1,
   "id": "12b61a4a",
   "metadata": {},
   "outputs": [
    {
     "name": "stdout",
     "output_type": "stream",
     "text": [
      "peak-to-peak LO drive voltage: 1.00e+00 V\n"
     ]
    }
   ],
   "source": [
    "import math\n",
    "R = 50\n",
    "Pdrive_dBm = 7\n",
    "Pdrive = 10**(Pdrive_dBm/10) * 1e-3\n",
    "Vdrive_rms = math.sqrt(Pdrive* R)\n",
    "Vdrive_pp = Vdrive_rms * 2 # square wave\n",
    "print(\"peak-to-peak LO drive voltage: %.2e V\" % (Vdrive_pp))"
   ]
  },
  {
   "cell_type": "markdown",
   "id": "a52b38fe",
   "metadata": {},
   "source": [
    "\n",
    "## Termination\n",
    "EMRFD : S11 should be -10dB. Q should be between 1 and 10.\n",
    "\n",
    "### Bandpass/bandstop Diplexer\n",
    "Highpass/lowpass diplexers are not suitable for this application.  So J.J. Carr, RF components and circuits, fig 5.32 can not be used.\n",
    "\n",
    "* J.J. Carr, RF components and circuits, p. 116\n",
    "* J.J.Carr Secrets of RF circuit design, §20 Using the DBM (p. 347) : diplexer, pre-and post-mixer amplifiers\n",
    "\n",
    "* 3dB pad (reduces NF by 3dB): see Mini-circuits FAQ\n",
    "* EMRFD : 3dB pads applied to all three ports of the mixer.\n",
    "* broadband amplifier \n",
    "* terminate all three ports\n",
    "* [Reducing IMD in high-level mixers](https://www.robkalmeijer.nl/techniek/electronica/radiotechniek/hambladen/qex/2001/05_06/page45/index.html)\n",
    "\n",
    "https://www.eevblog.com/forum/rf-microwave/double-balanced-mixers-various-questions-probems-with-my-first-attempt/\n",
    "* Terminate the IF-port into a diplexer. The IF port needs a good broadband 50ohm match over the widest bandwidth you can get.\n",
    "* Terminate the RF-port into a well matched 50ohm bandpass filter, or 50ohm source impedance.\n",
    "Don't worry about the LO source impedance, it is far less important. Just make sure you have enough LO to drive the diodes, and a square wave with good sharp, symmetrical edges will give approx. 10 to 20dB of improvement in the intermodulation performance.\n",
    "Make your transformers identical. They aren't just transformers, they're transmission lines. They are doing an impedance transformation, and they need to be as tightly matched as you can possibly make them. Trifiliar windings are a must.\n",
    "\n",
    "#### Diplexer option 1"
   ]
  },
  {
   "cell_type": "code",
   "execution_count": 2,
   "id": "97092759",
   "metadata": {},
   "outputs": [
    {
     "name": "stdout",
     "output_type": "stream",
     "text": [
      "Q =  10\n",
      "L_1 =  0.07437146873453052 uH\n",
      "C_1 =  2974.858749381222 pF\n",
      "L_2 =  7.437146873453053 uH\n",
      "C_2 =  29.74858749381222 pF\n"
     ]
    }
   ],
   "source": [
    "import math\n",
    "# Sayre §6.4 : this only provides matching from the LO-port.  The output of the filter must be 50ohm.  There's no backward matching (S22 is 0dB)\n",
    "# Hayward's IRFD, fig 4.26b proposes double ended termination to solve this.\n",
    "\n",
    "BW = 200e3  # Bandwidth\n",
    "f_0 = 10.7e6  # IF frequency\n",
    "ω = 2 * math.pi * f_0\n",
    "# Q = f_0 / BW # Q factor of the filter\n",
    "Q = 10 # Q factor of the filter\n",
    "\n",
    "# The formulas given here are lumped filter image parameters.  These are explained well in Sayre §6.2.3\n",
    "\n",
    "print(\"Q = \", Q)\n",
    "R_L = 50 # load resistance (IF port of the mixer)\n",
    "L_1 = R_L / (ω * Q) # inductance at center frequency\n",
    "print(\"L_1 = \", L_1 * 1e6, \"uH\")\n",
    "C_1 = 1 / (ω**2 * L_1) # capacitance at center frequency\n",
    "print(\"C_1 = \", C_1 * 1e12, \"pF\")\n",
    "L_2 = Q * R_L / ω # inductance at center frequency\n",
    "print(\"L_2 = \", L_2 * 1e6, \"uH\")\n",
    "C_2 = 1 / (ω**2 * L_2) # capacitance at center frequency\n",
    "print(\"C_2 = \", C_2 * 1e12, \"pF\")"
   ]
  },
  {
   "cell_type": "markdown",
   "id": "cf831c85",
   "metadata": {},
   "source": [
    "#### Diplexer option 2"
   ]
  },
  {
   "cell_type": "code",
   "execution_count": 3,
   "id": "508062be",
   "metadata": {},
   "outputs": [
    {
     "name": "stdout",
     "output_type": "stream",
     "text": [
      "L =  7.437146873453053 uH\n",
      "C =  29.74858749381222 pF\n",
      "Cp =  2974.858749381221 pF\n",
      "Lp =  0.07437146873453054 uH\n",
      "L =  0.39788735772973843 uH\n",
      "C =  6.628694006326335 pF\n",
      "Cp =  159.15494309189538 pF\n",
      "Lp =  0.01657173501581584 uH\n"
     ]
    }
   ],
   "source": [
    "# References: Bandpass / bandstop diplexer\n",
    "# * EMRFD, p.3.38\n",
    "# * J.J.Carr : \"RF Componenents and Circuits\" fig. 5.31\n",
    "\n",
    "# S11 equals S22, which are both very good.\n",
    "\n",
    "def calc_filter(f_0, Q):\n",
    "    ω = 2 * math.pi * f_0\n",
    "    R = 50 # load resistance\n",
    "    L = 50 * Q / ω # inductance at center frequency\n",
    "    print(\"L = \", L * 1e6, \"uH\")\n",
    "    C = 1 / (ω**2 * L) # capacitance at center frequency\n",
    "    print(\"C = \", C * 1e12, \"pF\")\n",
    "    Cp = L / R**2\n",
    "    print(\"Cp = \", Cp * 1e12, \"pF\")\n",
    "    Lp = 1 / (ω**2 * Cp)\n",
    "    print(\"Lp = \", Lp * 1e6, \"uH\")\n",
    "\n",
    "calc_filter(10.7e6, 10) # IF filter port\n",
    "BW = 20e6  # Bandwidth\n",
    "calc_filter(98e6, 98e6 / BW) # RF filter port"
   ]
  },
  {
   "cell_type": "markdown",
   "id": "4b4ad882",
   "metadata": {},
   "source": [
    "#### Diplexer option 3"
   ]
  },
  {
   "cell_type": "code",
   "execution_count": 4,
   "id": "a16accd2",
   "metadata": {},
   "outputs": [
    {
     "name": "stdout",
     "output_type": "stream",
     "text": [
      "L =  0.7437146873453053 uH\n",
      "C =  297.48587493812215 pF\n"
     ]
    }
   ],
   "source": [
    "# J.J.Carr : \"Secrets of RF Circuit Design\" p. 195, fig. 20-3\n",
    "# Similar to J.J.Carr : \"RF Componenents and Circuits\" fig. 5.31, but with a different component values.\n",
    "\n",
    "# The component values are wrong.\n",
    "\n",
    "f_0 = 10.7e6  # IF frequency\n",
    "ω = 2 * math.pi * f_0\n",
    "L = 50 / ω # inductance at center frequency\n",
    "print(\"L = \", L * 1e6, \"uH\")\n",
    "C = 1 / (ω * 50) # capacitance at center frequency\n",
    "print(\"C = \", C * 1e12, \"pF\")"
   ]
  },
  {
   "cell_type": "markdown",
   "id": "025eee68",
   "metadata": {},
   "source": [
    "# Diplexer actual design\n",
    "\n",
    "Calculations according to [Diplexer option 2](#diplexer-option-2)\n",
    "\n",
    "## IF port diplexer"
   ]
  },
  {
   "cell_type": "code",
   "execution_count": 5,
   "id": "4d7d7d1d",
   "metadata": {},
   "outputs": [
    {
     "name": "stdout",
     "output_type": "stream",
     "text": [
      "L =  7437.146873453053 nH\n",
      "User selected L =  6800.0 nH\n",
      "C =  32.5359727160662 pF\n",
      "Lp =  74.37146873453052 nH\n",
      "User selected Lp =  68.0 nH\n",
      "Cp =  3.2535972716066195 nF\n"
     ]
    }
   ],
   "source": [
    "Q = 10 # Q factor of the filter\n",
    "f_0 = 10.7e6  # IF frequency\n",
    "ω = 2 * math.pi * f_0\n",
    "R = 50 # load resistance\n",
    "\n",
    "# Select L for highest Q at 10.7MHz → L = \n",
    "L = 50 * Q / ω # inductance at center frequency\n",
    "print(\"L = \", L * 1e9, \"nH\")\n",
    "\n",
    "L = 6.8e-6 # close to 6.8nH\n",
    "print(\"User selected L = \", L * 1e9, \"nH\")\n",
    "\n",
    "# Calculate C for 10.7MHz\n",
    "C = 1 / (ω**2 * L) # capacitance at center frequency\n",
    "print(\"C = \", C * 1e12, \"pF\")\n",
    "\n",
    "Lp = R / (ω * Q) # inductance at center frequency\n",
    "print(\"Lp = \", Lp * 1e9, \"nH\")\n",
    "\n",
    "# Select Lp for highest Q at 10.7MHz → L = 744912168G : 68nH\n",
    "Lp = 68e-9 # close to 74.4nH\n",
    "print(\"User selected Lp = \", Lp * 1e9, \"nH\")\n",
    "\n",
    "# Calculate Cp for 10.7MHz\n",
    "Cp = 1 / (ω**2 * Lp) # capacitance at center frequency\n",
    "print(\"Cp = \", Cp * 1e9, \"nF\")"
   ]
  },
  {
   "cell_type": "markdown",
   "id": "c6bd601c",
   "metadata": {},
   "source": [
    "### IF diplexer measurements\n",
    "\n",
    "<figure>\n",
    "    <img src=\"../diplexer_filter_IF_port/doc/nanovna-h4_2025-08-15_17-48-01.png\" alt=\"IF port diplexer S21 & S11\" width=\"400\"/>\n",
    "    <figcaption>Figure 1: IF port diplexer S21 & S11</figcaption>\n",
    "</figure>"
   ]
  },
  {
   "cell_type": "markdown",
   "id": "5644a7d6",
   "metadata": {},
   "source": [
    "## RF port diplexer"
   ]
  },
  {
   "cell_type": "code",
   "execution_count": 6,
   "id": "b52de54b",
   "metadata": {},
   "outputs": [
    {
     "name": "stdout",
     "output_type": "stream",
     "text": [
      "L =  397.8873577297384 nH\n",
      "User selected L =  390.0 nH\n",
      "C =  6.762752675323434 pF\n",
      "Lp =  16.571735015815843 nH\n",
      "User selected Lp =  17.5 nH\n",
      "Cp =  150.71277390720797 pF\n"
     ]
    }
   ],
   "source": [
    "BW = 20e6\n",
    "f_0 = 98e6  # RF frequency, middle of the band\n",
    "Q = f_0 / BW # Q factor of the filter\n",
    "ω = 2 * math.pi * f_0\n",
    "R = 50 # load resistance\n",
    "\n",
    "# Select L for highest Q at 98MHz\n",
    "L = 50 * Q / ω # inductance at center frequency\n",
    "print(\"L = \", L * 1e9, \"nH\")\n",
    "L = 390e-9 # L = 744762239A : 390nH\n",
    "print(\"User selected L = \", L * 1e9, \"nH\")\n",
    "\n",
    "# Calculate C for 98MHz\n",
    "C = 1 / (ω**2 * L) # capacitance at center frequency\n",
    "print(\"C = \", C * 1e12, \"pF\")\n",
    "\n",
    "Lp = R / (ω * Q) # inductance at center frequency\n",
    "print(\"Lp = \", Lp * 1e9, \"nH\")\n",
    "# # Select Lp for highest Q at 98MHz\n",
    "Lp = 17.5e-9 # L = 744914117 : 17.5nH\n",
    "print(\"User selected Lp = \", Lp * 1e9, \"nH\")\n",
    "\n",
    "# Calculate Cp for 98MHz\n",
    "Cp = 1 / (ω**2 * Lp) # capacitance at center frequency\n",
    "print(\"Cp = \", Cp * 1e12, \"pF\")\n",
    "\n",
    "\n"
   ]
  },
  {
   "cell_type": "markdown",
   "id": "9e43eb4d",
   "metadata": {},
   "source": [
    "### RF diplexer measurements\n",
    "\n",
    "<figure>\n",
    "    <img src=\"../diplexer_filter_RF_port/doc/nanovna-h4_2025-08-15_17-11-01.png\" alt=\"RF port diplexer S21 & S11\" width=\"400\"/>\n",
    "    <figcaption>Figure 2: RF port diplexer S21 & S11</figcaption>\n",
    "</figure>"
   ]
  },
  {
   "cell_type": "markdown",
   "id": "372ca755",
   "metadata": {},
   "source": [
    "# Measurements\n",
    "## ADE-1+ mixer\n",
    "The function generator is set to sine wave output, 900mVpp into 50 ohm.  It's not possible to use square wave output, because the function generator only produces a square wave up to 25MHz. \n",
    "Using higher amplitude doesn't bring the IF output up, but it does increase the distortion products. \n",
    "\n",
    "<figure>\n",
    "  <img src=\"./measurement/NO_RF.bmp\" alt=\"Local oscillator only\" width=\"600\"/>\n",
    "  <figcaption>IF port output with 87.3MHz Local oscillator only</figcaption>\n",
    "</figure>\n",
    "\n",
    "The 3rd, 4th and 5th harmonic of the LO signal are visible.  All of this is with the duplexer in place.  One might wonder how bad it would be without the duplexer.\n",
    "\n",
    "<figure>\n",
    "  <img src=\"./measurement/2.bmp\" alt=\"\" width=\"600\"/>\n",
    "  <figcaption>IF port output with LO and RF signal</figcaption>\n",
    "</figure>\n",
    "\n",
    "The RF output signal is 3.5mVpp (function generator setting), -46.1dBm (spectrum analyzer reading) at 98MHz.  This means that we have a conversion loss of 10.7dB (-46.1dBm - (-56.8dBm)).  The desired difference frequency is at 10.7MHz, with some distortion products visible as well.\n",
    "\n",
    "In the spectrum plot, we see the desired difference frequency at 10.7MHz, but also the sum frequency at 185.3MHz.  The harmonics of the LO signal are also visible."
   ]
  },
  {
   "cell_type": "markdown",
   "id": "32266e62",
   "metadata": {},
   "source": [
    "\n",
    "# ~~Gilbert cell mixer~~\n",
    "* NJM2594\n",
    "* ONsemi : MC1496 / LM1496\n",
    "  * requires high supply voltage (12V and or -8V)\n",
    "  * LT5560 with Balun : WBC1-1TL 1:1\n",
    "\n",
    "[Discrete-Component Mixer design](https://ham.stackexchange.com/questions/23256/discrete-component-mixer-design)\n",
    "[Discrete Gilbert cell mixer with SD5000](https://www.edn.com/a-guide-to-using-fets-for-voltage-controlled-circuits-part-3/)\n",
    "\n",
    "https://radioaficionsdr.es.tl/Mezcladores-de-RF.htm\n",
    "https://www.qsl.net/va3iul/RF%20Mixers/RF_Mixers.pdf : mixer termination in last pages\n",
    "\n",
    "# ~~Active Dual gate MOSFET mixer~~\n",
    "Dual gate MOSFETs are obsolete, but they can be replaced by 2N-channel JFETs\n",
    "JFETs on Digikey : https://www.digikey.be/en/products/filter/transistors/fets-mosfets/rf-fets-mosfets/285?s=N4IgjCBcoKwOwAYqgMZQGYEMA2BnApgDQgD2UA2iHGAJwBsALHCALrEAOALlCAMqcAnAJYA7AOYgAvsQC0AJmQg0kQQFcipCiBghiNVtJAyAzIuVqNZSJTBIWkh0A\n",
    "* [Mixer testing of FM-receiver: BF990A](https://www.rfcandy.biz/communication/mxtest.html)\n",
    "* [understanding-a-mosfet-mixer](https://hackaday.com/2018/06/11/understanding-a-mosfet-mixer/)\n",
    "\n",
    "# ~~Passive JFET mixer~~\n",
    "[pe4140ds](https://www.psemi.com/pdf/datasheets/pe4140ds.pdf)\n",
    "\n",
    "\n",
    "# References\n",
    "Jessop p.24 : mixer\n",
    "\n",
    "https://www.qsl.net/va3iul/Homebrew_RF_Circuit_Design_Ideas/Homebrew_RF_Circuit_Design_Ideas.htm#Receivers\n",
    "\n"
   ]
  }
 ],
 "metadata": {
  "kernelspec": {
   "display_name": "Python 3",
   "language": "python",
   "name": "python3"
  },
  "language_info": {
   "codemirror_mode": {
    "name": "ipython",
    "version": 3
   },
   "file_extension": ".py",
   "mimetype": "text/x-python",
   "name": "python",
   "nbconvert_exporter": "python",
   "pygments_lexer": "ipython3",
   "version": "3.10.5"
  }
 },
 "nbformat": 4,
 "nbformat_minor": 5
}
