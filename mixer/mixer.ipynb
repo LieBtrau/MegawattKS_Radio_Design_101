{
 "cells": [
  {
   "cell_type": "markdown",
   "id": "a340dafa",
   "metadata": {},
   "source": [
    "# Diode ring mixer\n",
    "Minicircuits : [ADE-1+, Level 7, SMT Double Balanced Mixer, RF/LO Freq 0.5 - 500 MHz](https://www.minicircuits.com/WebStore/dashboard.html?model=ADE-1%2B)\n",
    "[#260: RF Diode Mixer LO Drive Level & Conversion Loss | 1dB Compression | Distortion](https://www.youtube.com/watch?v=GvadQpkZ8l0)\n",
    "\n",
    "## Driving the LO port\n",
    "* [Reducing IMD in high-level mixers](https://www.robkalmeijer.nl/techniek/electronica/radiotechniek/hambladen/qex/2001/05_06/page45/index.html)\n",
    "* LO drive should be as symmetrical as possible (50% duty cycle). A square wave is ideal.\n",
    "* Add a BPF for the 2nd harmonic of the LO signal to the RF port. A square wave has no 2nd harmonic content anyway.  This will help to reduce the IMD products.\n"
   ]
  },
  {
   "cell_type": "code",
   "execution_count": 31,
   "id": "8538bbe2",
   "metadata": {},
   "outputs": [
    {
     "name": "stdout",
     "output_type": "stream",
     "text": [
      "L =  0.010441470085241171 uH\n",
      "C =  318.3098861837907 pF\n"
     ]
    }
   ],
   "source": [
    "import math\n",
    "# LO side injection, so LO runs from 88-10.7MHz to 108-10.7MHz\n",
    "# LO center frequency is 98MHz - 10.7MHz = 87.3MHz\n",
    "f_0 = 87.3e6  # LO center frequency\n",
    "ω = 2 * math.pi * f_0\n",
    "BW = 20e6  # Bandwidth\n",
    "Q = f_0 / BW # Q factor of the filter\n",
    "\n",
    "Rin = 50 # 50 Ohm, input impedance (LO)\n",
    "Rout = 50 # 50 Ohm, output impedance (LO-port of the mixer)\n",
    "R_L = Rin * Rout / (Rin + Rout) # l\n",
    "\n",
    "X_0 = R_L / Q # reactance at center frequency\n",
    "L = X_0 / ω # inductance at center frequency\n",
    "print(\"L = \", L * 1e6, \"uH\")\n",
    "C = 1 / (ω**2 * L) # capacitance at center frequency\n",
    "print(\"C = \", C * 1e12, \"pF\")"
   ]
  },
  {
   "cell_type": "markdown",
   "id": "9fddd9b8",
   "metadata": {},
   "source": [
    "A low-pass filter messes up the switching waveform.  A source termination resistor will be used instead to provide a nice clean waveform without over/undershoot."
   ]
  },
  {
   "cell_type": "markdown",
   "id": "a52b38fe",
   "metadata": {},
   "source": [
    "\n",
    "## Termination\n",
    "EMRFD : S11 should be -10dB. Q should be between 1 and 10.\n",
    "\n",
    "### Bandpass/bandstop Diplexer\n",
    "Highpass/lowpass diplexers are not suitable for this application.  So J.J. Carr, RF components and circuits, fig 5.32 can not be used.\n",
    "\n",
    "* J.J. Carr, RF components and circuits, p. 116\n",
    "* J.J.Carr Secrets of RF circuit design, §20 Using the DBM (p. 347) : diplexer, pre-and post-mixer amplifiers\n",
    "\n",
    "* 3dB pad (reduces NF by 3dB): see Mini-circuits FAQ\n",
    "* EMRFD : 3dB pads applied to all three ports of the mixer.\n",
    "* broadband amplifier \n",
    "* terminate all three ports\n",
    "* [Reducing IMD in high-level mixers](https://www.robkalmeijer.nl/techniek/electronica/radiotechniek/hambladen/qex/2001/05_06/page45/index.html)\n",
    "\n",
    "https://www.eevblog.com/forum/rf-microwave/double-balanced-mixers-various-questions-probems-with-my-first-attempt/\n",
    "* Terminate the IF-port into a diplexer. The IF port needs a good broadband 50ohm match over the widest bandwidth you can get.\n",
    "* Terminate the RF-port into a well matched 50ohm bandpass filter, or 50ohm source impedance.\n",
    "Don't worry about the LO source impedance, it is far less important. Just make sure you have enough LO to drive the diodes, and a square wave with good sharp, symmetrical edges will give approx. 10 to 20dB of improvement in the intermodulation performance.\n",
    "Make your transformers identical. They aren't just transformers, they're transmission lines. They are doing an impedance transformation, and they need to be as tightly matched as you can possibly make them. Trifiliar windings are a must.\n"
   ]
  },
  {
   "cell_type": "code",
   "execution_count": 32,
   "id": "97092759",
   "metadata": {},
   "outputs": [
    {
     "name": "stdout",
     "output_type": "stream",
     "text": [
      "Q =  10\n",
      "L_1 =  0.07437146873453052 uH\n",
      "C_1 =  2974.858749381222 pF\n",
      "L_2 =  7.437146873453053 uH\n",
      "C_2 =  29.74858749381222 pF\n"
     ]
    }
   ],
   "source": [
    "import math\n",
    "# Sayre §6.4 : this only provides matching from the LO-port.  The output of the filter must be 50ohm.  There's no backward matching (S22 is 0dB)\n",
    "# Hayward's IRFD, fig 4.26b proposes double ended termination to solve this.\n",
    "\n",
    "BW = 200e3  # Bandwidth\n",
    "f_0 = 10.7e6  # IF frequency\n",
    "ω = 2 * math.pi * f_0\n",
    "# Q = f_0 / BW # Q factor of the filter\n",
    "Q = 10 # Q factor of the filter\n",
    "\n",
    "# The formulas given here are lumped filter image parameters.  These are explained well in Sayre §6.2.3\n",
    "\n",
    "print(\"Q = \", Q)\n",
    "R_L = 50 # load resistance (IF port of the mixer)\n",
    "L_1 = R_L / (ω * Q) # inductance at center frequency\n",
    "print(\"L_1 = \", L_1 * 1e6, \"uH\")\n",
    "C_1 = 1 / (ω**2 * L_1) # capacitance at center frequency\n",
    "print(\"C_1 = \", C_1 * 1e12, \"pF\")\n",
    "L_2 = Q * R_L / ω # inductance at center frequency\n",
    "print(\"L_2 = \", L_2 * 1e6, \"uH\")\n",
    "C_2 = 1 / (ω**2 * L_2) # capacitance at center frequency\n",
    "print(\"C_2 = \", C_2 * 1e12, \"pF\")"
   ]
  },
  {
   "cell_type": "code",
   "execution_count": 33,
   "id": "508062be",
   "metadata": {},
   "outputs": [
    {
     "name": "stdout",
     "output_type": "stream",
     "text": [
      "L =  7.437146873453053 uH\n",
      "C =  29.74858749381222 pF\n",
      "Cp =  2974.858749381221 pF\n",
      "Lp =  0.07437146873453054 uH\n",
      "L =  0.39788735772973843 uH\n",
      "C =  6.628694006326335 pF\n",
      "Cp =  159.15494309189538 pF\n",
      "Lp =  0.01657173501581584 uH\n"
     ]
    }
   ],
   "source": [
    "# References: Bandpass / bandstop diplexer\n",
    "# * EMRFD, p.3.38\n",
    "# * J.J.Carr : \"RF Componenents and Circuits\" fig. 5.31\n",
    "\n",
    "# S11 equals S22, which are both very good.\n",
    "\n",
    "def calc_filter(f_0, Q):\n",
    "    ω = 2 * math.pi * f_0\n",
    "    R = 50 # load resistance\n",
    "    L = 50 * Q / ω # inductance at center frequency\n",
    "    print(\"L = \", L * 1e6, \"uH\")\n",
    "    C = 1 / (ω**2 * L) # capacitance at center frequency\n",
    "    print(\"C = \", C * 1e12, \"pF\")\n",
    "    Cp = L / R**2\n",
    "    print(\"Cp = \", Cp * 1e12, \"pF\")\n",
    "    Lp = 1 / (ω**2 * Cp)\n",
    "    print(\"Lp = \", Lp * 1e6, \"uH\")\n",
    "\n",
    "calc_filter(10.7e6, 10) # IF filter port\n",
    "BW = 20e6  # Bandwidth\n",
    "calc_filter(98e6, 98e6 / BW) # RF filter port"
   ]
  },
  {
   "cell_type": "code",
   "execution_count": 34,
   "id": "a16accd2",
   "metadata": {},
   "outputs": [
    {
     "name": "stdout",
     "output_type": "stream",
     "text": [
      "L =  0.7437146873453053 uH\n",
      "C =  297.48587493812215 pF\n"
     ]
    }
   ],
   "source": [
    "# J.J.Carr : \"Secrets of RF Circuit Design\" p. 195, fig. 20-3\n",
    "# Similar to J.J.Carr : \"RF Componenents and Circuits\" fig. 5.31, but with a different component values.\n",
    "\n",
    "# The component values are wrong.\n",
    "\n",
    "f_0 = 10.7e6  # IF frequency\n",
    "ω = 2 * math.pi * f_0\n",
    "L = 50 / ω # inductance at center frequency\n",
    "print(\"L = \", L * 1e6, \"uH\")\n",
    "C = 1 / (ω * 50) # capacitance at center frequency\n",
    "print(\"C = \", C * 1e12, \"pF\")"
   ]
  },
  {
   "cell_type": "markdown",
   "id": "025eee68",
   "metadata": {},
   "source": [
    "# Diplexer actual design\n",
    "## IF port diplexer"
   ]
  },
  {
   "cell_type": "code",
   "execution_count": null,
   "id": "4d7d7d1d",
   "metadata": {},
   "outputs": [
    {
     "name": "stdout",
     "output_type": "stream",
     "text": [
      "Lp =  74.37146873453052 nH\n",
      "Cp =  3.2535972716066195 nF\n",
      "L =  7437.146873453053 nH\n",
      "C =  29.74858749381222 pF\n"
     ]
    }
   ],
   "source": [
    "Q = 10 # Q factor of the filter\n",
    "f_0 = 10.7e6  # IF frequency\n",
    "ω = 2 * math.pi * f_0\n",
    "R = 50 # load resistance\n",
    "Lp = R / (ω * Q) # inductance at center frequency\n",
    "print(\"Lp = \", L * 1e9, \"nH\")\n",
    "\n",
    "# Select Lp for highest Q at 10.7MHz → L = 744912168G : 68nH\n",
    "Lp = 68e-9 # inductance at center frequency\n",
    "\n",
    "# Calculate Cp for 10.7MHz\n",
    "Cp = 1 / (ω**2 * Lp) # capacitance at center frequency\n",
    "print(\"Cp = \", Cp * 1e9, \"nF\")\n",
    "\n",
    "# Select L for highest Q at 10.7MHz → L = \n",
    "L = 50 * Q / ω # inductance at center frequency\n",
    "print(\"L = \", L * 1e9, \"nH\")\n",
    "\n",
    "# Calculate C for 10.7MHz\n",
    "C = 1 / (ω**2 * L) # capacitance at center frequency\n",
    "print(\"C = \", C * 1e12, \"pF\")\n"
   ]
  },
  {
   "cell_type": "markdown",
   "id": "5644a7d6",
   "metadata": {},
   "source": [
    "## RF port diplexer"
   ]
  },
  {
   "cell_type": "code",
   "execution_count": null,
   "id": "b52de54b",
   "metadata": {},
   "outputs": [
    {
     "name": "stdout",
     "output_type": "stream",
     "text": [
      "Lp =  7437.146873453053 nH\n",
      "Cp =  150.71277390720797 pF\n",
      "L =  397.8873577297384 nH\n",
      "C =  6.762752675323434 pF\n"
     ]
    }
   ],
   "source": [
    "BW = 20e6\n",
    "f_0 = 98e6  # RF frequency, middle of the band\n",
    "Q = f_0 / BW # Q factor of the filter\n",
    "ω = 2 * math.pi * f_0\n",
    "R = 50 # load resistance\n",
    "Lp = R / (ω * Q) # inductance at center frequency\n",
    "print(\"Lp = \", L * 1e9, \"nH\")\n",
    "\n",
    "# # Select Lp for highest Q at 98MHz\n",
    "Lp = 17.5e-9 # L = 744914117 : 17.5nH\n",
    "\n",
    "# Calculate Cp for 98MHz\n",
    "Cp = 1 / (ω**2 * Lp) # capacitance at center frequency\n",
    "print(\"Cp = \", Cp * 1e12, \"pF\")\n",
    "\n",
    "# Select L for highest Q at 98MHz\n",
    "L = 50 * Q / ω # inductance at center frequency\n",
    "print(\"L = \", L * 1e9, \"nH\")\n",
    "L = 390e-9 # L = 744762239A : 390nH\n",
    "\n",
    "# Calculate C for 98MHz\n",
    "C = 1 / (ω**2 * L) # capacitance at center frequency\n",
    "print(\"C = \", C * 1e12, \"pF\")\n"
   ]
  },
  {
   "cell_type": "markdown",
   "id": "686146e1",
   "metadata": {},
   "source": [
    "# Implementation of high frequency 7.4µH inductor\n",
    "[Toroids - Some practical considerations](https://www.robkalmeijer.nl/techniek/electronica/radiotechniek/hambladen/qst/1988/12/page33/index.html)\n",
    "## Iron powdered core\n",
    "[Amidon iron powder toroids calculator](https://coil32.net/online-calculators/amidon-iron-powder-cores-calculator.html)\n",
    "J.J. Carr, RF components and circuits, p.243\n",
    "* Material : type 6 : 10MHz → 50MHz\n",
    "* Size : T50 → A_L = 43µH/100t²\n",
    "* Turns = 41\n",
    "* Wire size : AWG26 or smaller\n",
    "* [T37-6](https://www.amidoncorp.com/t37-6/) : 50 turns"
   ]
  },
  {
   "cell_type": "code",
   "execution_count": 37,
   "id": "99b6c04b",
   "metadata": {},
   "outputs": [
    {
     "name": "stdout",
     "output_type": "stream",
     "text": [
      "Iron-powdered N =  41.4840961400648\n"
     ]
    }
   ],
   "source": [
    "# Iron powdered inductor\n",
    "A_L = 43 # µH/(100t)²\n",
    "L = 7.4 # µH\n",
    "N = 100 * math.sqrt(L / A_L)\n",
    "print(\"Iron-powdered N = \", N)"
   ]
  },
  {
   "cell_type": "markdown",
   "id": "e646fa14",
   "metadata": {},
   "source": [
    "\n",
    "## Ferrite core\n",
    "[Amidon ferrite toroids calculator](https://coil32.net/online-calculators/amidon-ferrite-torroid-calculator.html)\n",
    "J.J. Carr, RF components and circuits, p.243\n",
    "* Material : [type 61](https://fair-rite.com/61-material-data-sheet/)\n",
    "  * [FT-37-61](https://www.amidoncorp.com/ft-37-61/)\n",
    "  * [Fair-rite 5961000201](https://fair-rite.com/product/toroids-5961000201/)\n",
    "* Material : [type 67](https://fair-rite.com/67-material-data-sheet/) : 10MHz → 80MHz\n",
    "  * [FT-37-67](https://www.amidoncorp.com/ft-37-67/) → A_L = 18nH/N², €1\n",
    "  * [Fair-rite 5967000201](https://fair-rite.com/product/toroids-5967000201/)"
   ]
  },
  {
   "cell_type": "code",
   "execution_count": 38,
   "id": "631e7894",
   "metadata": {},
   "outputs": [
    {
     "name": "stdout",
     "output_type": "stream",
     "text": [
      "Ferrite core N =  11.599373023808422\n"
     ]
    }
   ],
   "source": [
    "# Ferrite core inductor\n",
    "A_L = 55 # nH/N²\n",
    "L = 7.4e3 # nH\n",
    "N = math.sqrt(L / A_L)\n",
    "print(\"Ferrite core N = \", N)"
   ]
  },
  {
   "cell_type": "markdown",
   "id": "32266e62",
   "metadata": {},
   "source": [
    "\n",
    "# Gilbert cell mixer\n",
    "ONsemi : MC1496 / LM1496\n",
    "* requires high supply voltage (12V and or -8V)\n",
    "* LT5560 with Balun : WBC1-1TL 1:1\n",
    "\n",
    "https://radioaficionsdr.es.tl/Mezcladores-de-RF.htm\n",
    "https://www.qsl.net/va3iul/RF%20Mixers/RF_Mixers.pdf : mixer termination in last pages\n",
    "\n",
    "# Active Dual gate MOSFET mixer\n",
    "Dual gate MOSFETs can be replaced by 2N-channel JFETs\n",
    "JFETs on Digikey : https://www.digikey.be/en/products/filter/transistors/fets-mosfets/rf-fets-mosfets/285?s=N4IgjCBcoKwOwAYqgMZQGYEMA2BnApgDQgD2UA2iHGAJwBsALHCALrEAOALlCAMqcAnAJYA7AOYgAvsQC0AJmQg0kQQFcipCiBghiNVtJAyAzIuVqNZSJTBIWkh0A\n",
    "* [Mixer testing of FM-receiver: BF990A](https://www.rfcandy.biz/communication/mxtest.html)\n",
    "* [understanding-a-mosfet-mixer](https://hackaday.com/2018/06/11/understanding-a-mosfet-mixer/)\n",
    "\n",
    "# Passive JFET mixer\n",
    "[pe4140ds](https://www.psemi.com/pdf/datasheets/pe4140ds.pdf)\n",
    "\n",
    "\n",
    "# References\n",
    "Jessop p.24 : mixer\n",
    "\n",
    "https://www.qsl.net/va3iul/Homebrew_RF_Circuit_Design_Ideas/Homebrew_RF_Circuit_Design_Ideas.htm#Receivers\n",
    "\n"
   ]
  }
 ],
 "metadata": {
  "kernelspec": {
   "display_name": "Python 3",
   "language": "python",
   "name": "python3"
  },
  "language_info": {
   "codemirror_mode": {
    "name": "ipython",
    "version": 3
   },
   "file_extension": ".py",
   "mimetype": "text/x-python",
   "name": "python",
   "nbconvert_exporter": "python",
   "pygments_lexer": "ipython3",
   "version": "3.10.5"
  }
 },
 "nbformat": 4,
 "nbformat_minor": 5
}
